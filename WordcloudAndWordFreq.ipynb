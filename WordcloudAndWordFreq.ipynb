{
 "cells": [
  {
   "cell_type": "code",
   "execution_count": 3,
   "metadata": {},
   "outputs": [],
   "source": [
    "from nltk.sentiment.vader import SentimentIntensityAnalyzer\n",
    "from nltk.corpus import stopwords\n",
    "import pandas as pd\n",
    "from functools import reduce\n",
    "from wordcloud import WordCloud, ImageColorGenerator\n",
    "import matplotlib.pyplot as plt\n",
    "from feature_lb import sentiment_scores\n",
    "from preprocessing import lemmAndStem\n",
    "import collections\n",
    "import plotly.graph_objects as go"
   ]
  },
  {
   "cell_type": "code",
   "execution_count": 25,
   "metadata": {},
   "outputs": [
    {
     "data": {
      "text/html": [
       "<div>\n",
       "<style scoped>\n",
       "    .dataframe tbody tr th:only-of-type {\n",
       "        vertical-align: middle;\n",
       "    }\n",
       "\n",
       "    .dataframe tbody tr th {\n",
       "        vertical-align: top;\n",
       "    }\n",
       "\n",
       "    .dataframe thead th {\n",
       "        text-align: right;\n",
       "    }\n",
       "</style>\n",
       "<table border=\"1\" class=\"dataframe\">\n",
       "  <thead>\n",
       "    <tr style=\"text-align: right;\">\n",
       "      <th></th>\n",
       "      <th>User</th>\n",
       "      <th>Post</th>\n",
       "      <th>Label</th>\n",
       "      <th>Tokenized Post</th>\n",
       "      <th>New Label</th>\n",
       "      <th>Lemmatization</th>\n",
       "      <th>Stemming</th>\n",
       "    </tr>\n",
       "  </thead>\n",
       "  <tbody>\n",
       "    <tr>\n",
       "      <th>0</th>\n",
       "      <td>user-0</td>\n",
       "      <td>['Its not a viable option, and youll be leavin...</td>\n",
       "      <td>Supportive</td>\n",
       "      <td>[viable, option, youll, leaving, wife, behind,...</td>\n",
       "      <td>0</td>\n",
       "      <td>[viable, option, youll, leaving, wife, behind,...</td>\n",
       "      <td>[viabl, option, youll, leav, wife, behind, you...</td>\n",
       "    </tr>\n",
       "    <tr>\n",
       "      <th>1</th>\n",
       "      <td>user-1</td>\n",
       "      <td>['It can be hard to appreciate the notion that...</td>\n",
       "      <td>Ideation</td>\n",
       "      <td>[hard, appreciate, notion, could, meet, someon...</td>\n",
       "      <td>2</td>\n",
       "      <td>[hard, appreciate, notion, could, meet, someon...</td>\n",
       "      <td>[hard, appreci, notion, could, meet, someon, e...</td>\n",
       "    </tr>\n",
       "    <tr>\n",
       "      <th>2</th>\n",
       "      <td>user-2</td>\n",
       "      <td>['Hi, so last night i was sitting on the ledge...</td>\n",
       "      <td>Behavior</td>\n",
       "      <td>[hi, last, night, sitting, ledge, window, cont...</td>\n",
       "      <td>3</td>\n",
       "      <td>[hi, last, night, sitting, ledge, window, cont...</td>\n",
       "      <td>[hi, last, night, sit, ledg, window, contempl,...</td>\n",
       "    </tr>\n",
       "    <tr>\n",
       "      <th>3</th>\n",
       "      <td>user-3</td>\n",
       "      <td>['I tried to kill my self once and failed badl...</td>\n",
       "      <td>Attempt</td>\n",
       "      <td>[tried, kill, self, failed, badly, cause, mome...</td>\n",
       "      <td>4</td>\n",
       "      <td>[tried, kill, self, failed, badly, cause, mome...</td>\n",
       "      <td>[tri, kill, self, fail, badli, caus, moment, w...</td>\n",
       "    </tr>\n",
       "    <tr>\n",
       "      <th>4</th>\n",
       "      <td>user-4</td>\n",
       "      <td>['Hi NEM3030. What sorts of things do you enjo...</td>\n",
       "      <td>Ideation</td>\n",
       "      <td>[hi, nem, sorts, things, enjoy, personally, al...</td>\n",
       "      <td>2</td>\n",
       "      <td>[hi, nem, sort, thing, enjoy, personally, alwa...</td>\n",
       "      <td>[hi, nem, sort, thing, enjoy, person, alway, w...</td>\n",
       "    </tr>\n",
       "    <tr>\n",
       "      <th>...</th>\n",
       "      <td>...</td>\n",
       "      <td>...</td>\n",
       "      <td>...</td>\n",
       "      <td>...</td>\n",
       "      <td>...</td>\n",
       "      <td>...</td>\n",
       "      <td>...</td>\n",
       "    </tr>\n",
       "    <tr>\n",
       "      <th>495</th>\n",
       "      <td>user-495</td>\n",
       "      <td>['Its not the end, it just feels that way. Or ...</td>\n",
       "      <td>Supportive</td>\n",
       "      <td>[end, feels, way, least, doesnt, entire, lifet...</td>\n",
       "      <td>0</td>\n",
       "      <td>[end, feel, way, least, doesnt, entire, lifeti...</td>\n",
       "      <td>[end, feel, way, least, doesnt, entir, lifetim...</td>\n",
       "    </tr>\n",
       "    <tr>\n",
       "      <th>496</th>\n",
       "      <td>user-496</td>\n",
       "      <td>['It was a skype call, but she ended it and Ve...</td>\n",
       "      <td>Indicator</td>\n",
       "      <td>[skype, call, ended, ventricular, dysfunction,...</td>\n",
       "      <td>1</td>\n",
       "      <td>[skype, call, ended, ventricular, dysfunction,...</td>\n",
       "      <td>[skype, call, end, ventricular, dysfunct, left...</td>\n",
       "    </tr>\n",
       "    <tr>\n",
       "      <th>497</th>\n",
       "      <td>user-497</td>\n",
       "      <td>['That sounds really weird.Maybe you were Dist...</td>\n",
       "      <td>Supportive</td>\n",
       "      <td>[sounds, really, weirdmaybe, distractibility, ...</td>\n",
       "      <td>0</td>\n",
       "      <td>[sound, really, weirdmaybe, distractibility, s...</td>\n",
       "      <td>[sound, realli, weirdmayb, distract, someth, s...</td>\n",
       "    </tr>\n",
       "    <tr>\n",
       "      <th>498</th>\n",
       "      <td>user-498</td>\n",
       "      <td>['Dont know there as dumb as it sounds I feel ...</td>\n",
       "      <td>Attempt</td>\n",
       "      <td>[dont, know, dumb, sounds, feel, hyperactive, ...</td>\n",
       "      <td>4</td>\n",
       "      <td>[dont, know, dumb, sound, feel, hyperactive, b...</td>\n",
       "      <td>[dont, know, dumb, sound, feel, hyperact, beha...</td>\n",
       "    </tr>\n",
       "    <tr>\n",
       "      <th>499</th>\n",
       "      <td>user-499</td>\n",
       "      <td>['&amp;gt;It gets better, trust me.Ive spent long ...</td>\n",
       "      <td>Behavior</td>\n",
       "      <td>[gets, better, trust, meive, spent, long, enou...</td>\n",
       "      <td>3</td>\n",
       "      <td>[get, better, trust, meive, spent, long, enoug...</td>\n",
       "      <td>[get, better, trust, meiv, spent, long, enough...</td>\n",
       "    </tr>\n",
       "  </tbody>\n",
       "</table>\n",
       "<p>500 rows × 7 columns</p>\n",
       "</div>"
      ],
      "text/plain": [
       "         User                                               Post       Label  \\\n",
       "0      user-0  ['Its not a viable option, and youll be leavin...  Supportive   \n",
       "1      user-1  ['It can be hard to appreciate the notion that...    Ideation   \n",
       "2      user-2  ['Hi, so last night i was sitting on the ledge...    Behavior   \n",
       "3      user-3  ['I tried to kill my self once and failed badl...     Attempt   \n",
       "4      user-4  ['Hi NEM3030. What sorts of things do you enjo...    Ideation   \n",
       "..        ...                                                ...         ...   \n",
       "495  user-495  ['Its not the end, it just feels that way. Or ...  Supportive   \n",
       "496  user-496  ['It was a skype call, but she ended it and Ve...   Indicator   \n",
       "497  user-497  ['That sounds really weird.Maybe you were Dist...  Supportive   \n",
       "498  user-498  ['Dont know there as dumb as it sounds I feel ...     Attempt   \n",
       "499  user-499  ['&gt;It gets better, trust me.Ive spent long ...    Behavior   \n",
       "\n",
       "                                        Tokenized Post  New Label  \\\n",
       "0    [viable, option, youll, leaving, wife, behind,...          0   \n",
       "1    [hard, appreciate, notion, could, meet, someon...          2   \n",
       "2    [hi, last, night, sitting, ledge, window, cont...          3   \n",
       "3    [tried, kill, self, failed, badly, cause, mome...          4   \n",
       "4    [hi, nem, sorts, things, enjoy, personally, al...          2   \n",
       "..                                                 ...        ...   \n",
       "495  [end, feels, way, least, doesnt, entire, lifet...          0   \n",
       "496  [skype, call, ended, ventricular, dysfunction,...          1   \n",
       "497  [sounds, really, weirdmaybe, distractibility, ...          0   \n",
       "498  [dont, know, dumb, sounds, feel, hyperactive, ...          4   \n",
       "499  [gets, better, trust, meive, spent, long, enou...          3   \n",
       "\n",
       "                                         Lemmatization  \\\n",
       "0    [viable, option, youll, leaving, wife, behind,...   \n",
       "1    [hard, appreciate, notion, could, meet, someon...   \n",
       "2    [hi, last, night, sitting, ledge, window, cont...   \n",
       "3    [tried, kill, self, failed, badly, cause, mome...   \n",
       "4    [hi, nem, sort, thing, enjoy, personally, alwa...   \n",
       "..                                                 ...   \n",
       "495  [end, feel, way, least, doesnt, entire, lifeti...   \n",
       "496  [skype, call, ended, ventricular, dysfunction,...   \n",
       "497  [sound, really, weirdmaybe, distractibility, s...   \n",
       "498  [dont, know, dumb, sound, feel, hyperactive, b...   \n",
       "499  [get, better, trust, meive, spent, long, enoug...   \n",
       "\n",
       "                                              Stemming  \n",
       "0    [viabl, option, youll, leav, wife, behind, you...  \n",
       "1    [hard, appreci, notion, could, meet, someon, e...  \n",
       "2    [hi, last, night, sit, ledg, window, contempl,...  \n",
       "3    [tri, kill, self, fail, badli, caus, moment, w...  \n",
       "4    [hi, nem, sort, thing, enjoy, person, alway, w...  \n",
       "..                                                 ...  \n",
       "495  [end, feel, way, least, doesnt, entir, lifetim...  \n",
       "496  [skype, call, end, ventricular, dysfunct, left...  \n",
       "497  [sound, realli, weirdmayb, distract, someth, s...  \n",
       "498  [dont, know, dumb, sound, feel, hyperact, beha...  \n",
       "499  [get, better, trust, meiv, spent, long, enough...  \n",
       "\n",
       "[500 rows x 7 columns]"
      ]
     },
     "execution_count": 25,
     "metadata": {},
     "output_type": "execute_result"
    }
   ],
   "source": [
    "df = pd.read_csv('./Data/500_Reddit_users_posts_labels.csv')\n",
    "df = lemmAndStem(df)\n",
    "df"
   ]
  },
  {
   "cell_type": "code",
   "execution_count": 8,
   "metadata": {},
   "outputs": [],
   "source": [
    "\n",
    "def get_all_words(df, label_num):\n",
    "    # a double list \n",
    "    label = df.loc[df['New Label']==label_num,:][\"Lemmatization\"].tolist()\n",
    "    #print(label) \n",
    "    # a single list\n",
    "    l =  [item for sublist in label for item in sublist]\n",
    "    # string to store meaningful words in this label\n",
    "    label_n = \"\"\n",
    "    for word in l:\n",
    "        # for each word, check its sentiment score\n",
    "        if sentiment_scores(word) != 0:\n",
    "            #print(word, \"------\")\n",
    "            label_n = label_n+\" \"+word\n",
    "    # return all meaningful words as string \n",
    "    return label_n\n",
    "\n",
    "# label_0 = get_all_words(df, 0)\n",
    "# label_1 = get_all_words(df, 1)\n",
    "# label_2 = get_all_words(df, 2)\n",
    "# label_3 = get_all_words(df, 3)\n",
    "# label_4 = get_all_words(df, 4)"
   ]
  },
  {
   "cell_type": "code",
   "execution_count": null,
   "metadata": {},
   "outputs": [],
   "source": [
    "# text_file = open(\"label_0.txt\", \"w\")\n",
    "# n = text_file.write(label_0)\n",
    "# text_file.close()\n",
    "# text_file = open(\"label_1.txt\", \"w\")\n",
    "# n = text_file.write(label_1)\n",
    "# text_file.close()\n",
    "# text_file = open(\"label_2.txt\", \"w\")\n",
    "# n = text_file.write(label_2)\n",
    "# text_file.close()\n",
    "# text_file = open(\"label_3.txt\", \"w\")\n",
    "# n = text_file.write(label_3)\n",
    "# text_file.close()\n",
    "# text_file = open(\"label_4.txt\", \"w\")\n",
    "# n = text_file.write(label_4)\n",
    "# text_file.close()"
   ]
  },
  {
   "cell_type": "code",
   "execution_count": 5,
   "metadata": {},
   "outputs": [],
   "source": [
    "from pathlib import Path\n",
    "label_0 = Path('label_0.txt').read_text()\n",
    "label_1 = Path('label_1.txt').read_text()\n",
    "label_2 = Path('label_2.txt').read_text()\n",
    "label_3 = Path('label_3.txt').read_text()\n",
    "label_4 = Path('label_4.txt').read_text()"
   ]
  },
  {
   "cell_type": "markdown",
   "metadata": {},
   "source": [
    "## Generating Wordclouds for Each Label"
   ]
  },
  {
   "cell_type": "code",
   "execution_count": 6,
   "metadata": {},
   "outputs": [
    {
     "data": {
      "image/png": "[encoded data removed]",
      "text/plain": [
       "<Figure size 432x288 with 1 Axes>"
      ]
     },
     "metadata": {
      "needs_background": "light"
     },
     "output_type": "display_data"
    }
   ],
   "source": [
    "#Create and generate a word cloud image:\n",
    "wordcloud_label_0 = WordCloud(collocations=False,background_color=\"white\", max_words=150).generate(label_0)\n",
    "wordcloud_label_1 = WordCloud(collocations=False,background_color=\"white\", max_words=150).generate(label_1)\n",
    "wordcloud_label_2 = WordCloud(collocations=False,background_color=\"white\", max_words=150).generate(label_2)\n",
    "wordcloud_label_3 = WordCloud(collocations=False,background_color=\"white\", max_words=150).generate(label_3)\n",
    "wordcloud_label_4 = WordCloud(collocations=False,background_color=\"white\", max_words=150).generate(label_4)\n",
    "\n",
    "plt.imshow(wordcloud_label_0, interpolation='bilinear',aspect=\"auto\")\n",
    "plt.axis(\"off\")\n",
    "# store to file\n",
    "plt.savefig(\"./image/wordcloud_label_0.png\", format=\"png\")\n",
    "plt.show()"
   ]
  },
  {
   "cell_type": "code",
   "execution_count": 7,
   "metadata": {},
   "outputs": [
    {
     "data": {
      "image/png": "[encoded data removed]",
      "text/plain": [
       "<Figure size 432x288 with 1 Axes>"
      ]
     },
     "metadata": {
      "needs_background": "light"
     },
     "output_type": "display_data"
    }
   ],
   "source": [
    "plt.imshow(wordcloud_label_1, interpolation='bilinear',aspect=\"auto\")\n",
    "plt.axis(\"off\")\n",
    "plt.savefig(\"./image/wordcloud_label_1.png\", format=\"png\")\n",
    "plt.show()\n"
   ]
  },
  {
   "cell_type": "code",
   "execution_count": null,
   "metadata": {},
   "outputs": [
    {
     "data": {
      "image/png": "[encoded data removed]",
      "text/plain": [
       "<Figure size 432x288 with 1 Axes>"
      ]
     },
     "metadata": {
      "needs_background": "light"
     },
     "output_type": "display_data"
    }
   ],
   "source": [
    "plt.imshow(wordcloud_label_2, interpolation='bilinear',aspect=\"auto\")\n",
    "plt.axis(\"off\")\n",
    "plt.savefig(\"./image/wordcloud_label_2.png\", format=\"png\")\n",
    "plt.show()"
   ]
  },
  {
   "cell_type": "code",
   "execution_count": null,
   "metadata": {},
   "outputs": [
    {
     "data": {
      "image/png": "[encoded data removed]",
      "text/plain": [
       "<Figure size 432x288 with 1 Axes>"
      ]
     },
     "metadata": {
      "needs_background": "light"
     },
     "output_type": "display_data"
    }
   ],
   "source": [
    "plt.imshow(wordcloud_label_3, interpolation='bilinear',aspect=\"auto\")\n",
    "plt.axis(\"off\")\n",
    "plt.savefig(\"./image/wordcloud_label_3.png\", format=\"png\")\n",
    "plt.show()"
   ]
  },
  {
   "cell_type": "code",
   "execution_count": null,
   "metadata": {},
   "outputs": [
    {
     "data": {
      "image/png": "[encoded data removed]",
      "text/plain": [
       "<Figure size 432x288 with 1 Axes>"
      ]
     },
     "metadata": {
      "needs_background": "light"
     },
     "output_type": "display_data"
    }
   ],
   "source": [
    "plt.imshow(wordcloud_label_4, interpolation='bilinear',aspect=\"auto\")\n",
    "plt.axis(\"off\")\n",
    "plt.savefig(\"./image/wordcloud_label_4.png\", format=\"png\")\n",
    "plt.show()"
   ]
  },
  {
   "cell_type": "markdown",
   "metadata": {},
   "source": [
    "Generate Freqency Graph "
   ]
  },
  {
   "cell_type": "code",
   "execution_count": 9,
   "metadata": {},
   "outputs": [],
   "source": [
    "def wordListToFreqDict(wordlist):\n",
    "    somewords = []\n",
    "    for p in wordlist:\n",
    "        if sentiment_scores(p) != 0:\n",
    "            somewords.append(p)\n",
    "    wordfreq = [somewords.count(i) for i in somewords]\n",
    "    return dict(zip(somewords,wordfreq))\n",
    "\n",
    "def sortFreqDict(freqdict):\n",
    "    freqDic = [(freqdict[key], key) for key in freqdict]\n",
    "    freqDic.sort()\n",
    "    freqDic.reverse()\n",
    "    return freqDic"
   ]
  },
  {
   "cell_type": "code",
   "execution_count": 10,
   "metadata": {},
   "outputs": [],
   "source": [
    "# call this function to find out top 30 meaningful words in each label, and return a datafram with columns: words, label, percentage\n",
    "def freq_df(label_list, label_num):\n",
    "    ll = label_list.split()\n",
    "    counts_ll = collections.Counter(ll)\n",
    "    counts_ll.most_common(30)   # find top 30 meaningful words\n",
    "    ll_df = pd.DataFrame(counts_ll.most_common(30), columns=['words', 'count'])\n",
    "    ll_df[\"label\"] = label_num\n",
    "    ll_df[\"percentage\"] = (ll_df[\"count\"]/len(label_list.split()))*100\n",
    "    return ll_df"
   ]
  },
  {
   "cell_type": "code",
   "execution_count": 11,
   "metadata": {},
   "outputs": [],
   "source": [
    "d0 = freq_df(label_0, \"0\")\n",
    "d1 = freq_df(label_1, \"1\")\n",
    "d2 = freq_df(label_2, \"2\")\n",
    "d3 = freq_df(label_3, \"3\")\n",
    "d4 = freq_df(label_4, \"4\")\n",
    "result = d0.append([d1, d2, d3, d4],ignore_index=True)\n",
    "result_l = result[\"words\"].tolist()\n",
    "# all meaningful words for each label in one list \n",
    "all_meaningful = list(dict.fromkeys((result_l)))\n"
   ]
  },
  {
   "cell_type": "markdown",
   "metadata": {},
   "source": [
    "## Sort \"Top Word\" Occurrence in Labels and Plotting "
   ]
  },
  {
   "cell_type": "code",
   "execution_count": 12,
   "metadata": {},
   "outputs": [
    {
     "data": {
      "text/html": [
       "<div>\n",
       "<style scoped>\n",
       "    .dataframe tbody tr th:only-of-type {\n",
       "        vertical-align: middle;\n",
       "    }\n",
       "\n",
       "    .dataframe tbody tr th {\n",
       "        vertical-align: top;\n",
       "    }\n",
       "\n",
       "    .dataframe thead th {\n",
       "        text-align: right;\n",
       "    }\n",
       "</style>\n",
       "<table border=\"1\" class=\"dataframe\">\n",
       "  <thead>\n",
       "    <tr style=\"text-align: right;\">\n",
       "      <th></th>\n",
       "      <th>words</th>\n",
       "      <th>label-0</th>\n",
       "      <th>percentage-0</th>\n",
       "      <th>label-1</th>\n",
       "      <th>percentage-1</th>\n",
       "      <th>label-2</th>\n",
       "      <th>percentage-2</th>\n",
       "      <th>label-3</th>\n",
       "      <th>percentage-3</th>\n",
       "      <th>label-4</th>\n",
       "      <th>percentage-4</th>\n",
       "    </tr>\n",
       "  </thead>\n",
       "  <tbody>\n",
       "    <tr>\n",
       "      <th>0</th>\n",
       "      <td>pain</td>\n",
       "      <td>0</td>\n",
       "      <td>0.63</td>\n",
       "      <td>1</td>\n",
       "      <td>0.91</td>\n",
       "      <td>2</td>\n",
       "      <td>0.89</td>\n",
       "      <td>3</td>\n",
       "      <td>1.12</td>\n",
       "      <td>4</td>\n",
       "      <td>0.85</td>\n",
       "    </tr>\n",
       "    <tr>\n",
       "      <th>1</th>\n",
       "      <td>tired</td>\n",
       "      <td>0</td>\n",
       "      <td>0.56</td>\n",
       "      <td>1</td>\n",
       "      <td>0.77</td>\n",
       "      <td>2</td>\n",
       "      <td>0.79</td>\n",
       "      <td>3</td>\n",
       "      <td>1.09</td>\n",
       "      <td>4</td>\n",
       "      <td>0.82</td>\n",
       "    </tr>\n",
       "    <tr>\n",
       "      <th>2</th>\n",
       "      <td>shit</td>\n",
       "      <td>0</td>\n",
       "      <td>0.56</td>\n",
       "      <td>1</td>\n",
       "      <td>0.82</td>\n",
       "      <td>2</td>\n",
       "      <td>0.55</td>\n",
       "      <td>3</td>\n",
       "      <td>0.61</td>\n",
       "      <td>4</td>\n",
       "      <td>1.00</td>\n",
       "    </tr>\n",
       "    <tr>\n",
       "      <th>3</th>\n",
       "      <td>sorry</td>\n",
       "      <td>0</td>\n",
       "      <td>1.21</td>\n",
       "      <td>1</td>\n",
       "      <td>1.22</td>\n",
       "      <td>2</td>\n",
       "      <td>0.90</td>\n",
       "      <td>3</td>\n",
       "      <td>0.76</td>\n",
       "      <td>4</td>\n",
       "      <td>0.62</td>\n",
       "    </tr>\n",
       "    <tr>\n",
       "      <th>4</th>\n",
       "      <td>sure</td>\n",
       "      <td>0</td>\n",
       "      <td>1.40</td>\n",
       "      <td>1</td>\n",
       "      <td>1.31</td>\n",
       "      <td>2</td>\n",
       "      <td>0.86</td>\n",
       "      <td>3</td>\n",
       "      <td>0.81</td>\n",
       "      <td>4</td>\n",
       "      <td>0.85</td>\n",
       "    </tr>\n",
       "    <tr>\n",
       "      <th>5</th>\n",
       "      <td>like</td>\n",
       "      <td>0</td>\n",
       "      <td>2.91</td>\n",
       "      <td>1</td>\n",
       "      <td>3.10</td>\n",
       "      <td>2</td>\n",
       "      <td>3.16</td>\n",
       "      <td>3</td>\n",
       "      <td>3.80</td>\n",
       "      <td>4</td>\n",
       "      <td>3.28</td>\n",
       "    </tr>\n",
       "    <tr>\n",
       "      <th>6</th>\n",
       "      <td>bad</td>\n",
       "      <td>0</td>\n",
       "      <td>0.99</td>\n",
       "      <td>1</td>\n",
       "      <td>1.02</td>\n",
       "      <td>2</td>\n",
       "      <td>1.11</td>\n",
       "      <td>3</td>\n",
       "      <td>0.95</td>\n",
       "      <td>4</td>\n",
       "      <td>1.10</td>\n",
       "    </tr>\n",
       "    <tr>\n",
       "      <th>7</th>\n",
       "      <td>feeling</td>\n",
       "      <td>0</td>\n",
       "      <td>1.49</td>\n",
       "      <td>1</td>\n",
       "      <td>1.47</td>\n",
       "      <td>2</td>\n",
       "      <td>1.61</td>\n",
       "      <td>3</td>\n",
       "      <td>1.35</td>\n",
       "      <td>4</td>\n",
       "      <td>1.42</td>\n",
       "    </tr>\n",
       "    <tr>\n",
       "      <th>8</th>\n",
       "      <td>want</td>\n",
       "      <td>0</td>\n",
       "      <td>3.84</td>\n",
       "      <td>1</td>\n",
       "      <td>3.55</td>\n",
       "      <td>2</td>\n",
       "      <td>3.56</td>\n",
       "      <td>3</td>\n",
       "      <td>3.89</td>\n",
       "      <td>4</td>\n",
       "      <td>3.96</td>\n",
       "    </tr>\n",
       "    <tr>\n",
       "      <th>9</th>\n",
       "      <td>kill</td>\n",
       "      <td>0</td>\n",
       "      <td>0.61</td>\n",
       "      <td>1</td>\n",
       "      <td>0.48</td>\n",
       "      <td>2</td>\n",
       "      <td>0.57</td>\n",
       "      <td>3</td>\n",
       "      <td>0.94</td>\n",
       "      <td>4</td>\n",
       "      <td>0.83</td>\n",
       "    </tr>\n",
       "    <tr>\n",
       "      <th>10</th>\n",
       "      <td>suicide</td>\n",
       "      <td>0</td>\n",
       "      <td>1.04</td>\n",
       "      <td>1</td>\n",
       "      <td>0.74</td>\n",
       "      <td>2</td>\n",
       "      <td>0.99</td>\n",
       "      <td>3</td>\n",
       "      <td>0.97</td>\n",
       "      <td>4</td>\n",
       "      <td>1.01</td>\n",
       "    </tr>\n",
       "    <tr>\n",
       "      <th>11</th>\n",
       "      <td>better</td>\n",
       "      <td>0</td>\n",
       "      <td>2.65</td>\n",
       "      <td>1</td>\n",
       "      <td>2.48</td>\n",
       "      <td>2</td>\n",
       "      <td>2.23</td>\n",
       "      <td>3</td>\n",
       "      <td>1.97</td>\n",
       "      <td>4</td>\n",
       "      <td>2.07</td>\n",
       "    </tr>\n",
       "    <tr>\n",
       "      <th>12</th>\n",
       "      <td>support</td>\n",
       "      <td>0</td>\n",
       "      <td>0.37</td>\n",
       "      <td>1</td>\n",
       "      <td>0.47</td>\n",
       "      <td>2</td>\n",
       "      <td>0.37</td>\n",
       "      <td>3</td>\n",
       "      <td>0.52</td>\n",
       "      <td>4</td>\n",
       "      <td>0.73</td>\n",
       "    </tr>\n",
       "    <tr>\n",
       "      <th>13</th>\n",
       "      <td>care</td>\n",
       "      <td>0</td>\n",
       "      <td>1.26</td>\n",
       "      <td>1</td>\n",
       "      <td>1.48</td>\n",
       "      <td>2</td>\n",
       "      <td>0.94</td>\n",
       "      <td>3</td>\n",
       "      <td>1.18</td>\n",
       "      <td>4</td>\n",
       "      <td>1.07</td>\n",
       "    </tr>\n",
       "    <tr>\n",
       "      <th>14</th>\n",
       "      <td>hope</td>\n",
       "      <td>0</td>\n",
       "      <td>1.42</td>\n",
       "      <td>1</td>\n",
       "      <td>1.23</td>\n",
       "      <td>2</td>\n",
       "      <td>1.28</td>\n",
       "      <td>3</td>\n",
       "      <td>0.95</td>\n",
       "      <td>4</td>\n",
       "      <td>0.92</td>\n",
       "    </tr>\n",
       "    <tr>\n",
       "      <th>15</th>\n",
       "      <td>help</td>\n",
       "      <td>0</td>\n",
       "      <td>3.25</td>\n",
       "      <td>1</td>\n",
       "      <td>3.33</td>\n",
       "      <td>2</td>\n",
       "      <td>3.12</td>\n",
       "      <td>3</td>\n",
       "      <td>3.44</td>\n",
       "      <td>4</td>\n",
       "      <td>3.54</td>\n",
       "    </tr>\n",
       "    <tr>\n",
       "      <th>16</th>\n",
       "      <td>hard</td>\n",
       "      <td>0</td>\n",
       "      <td>1.04</td>\n",
       "      <td>1</td>\n",
       "      <td>1.37</td>\n",
       "      <td>2</td>\n",
       "      <td>1.08</td>\n",
       "      <td>3</td>\n",
       "      <td>0.96</td>\n",
       "      <td>4</td>\n",
       "      <td>0.71</td>\n",
       "    </tr>\n",
       "    <tr>\n",
       "      <th>17</th>\n",
       "      <td>hate</td>\n",
       "      <td>0</td>\n",
       "      <td>0.29</td>\n",
       "      <td>1</td>\n",
       "      <td>0.34</td>\n",
       "      <td>2</td>\n",
       "      <td>0.50</td>\n",
       "      <td>3</td>\n",
       "      <td>0.61</td>\n",
       "      <td>4</td>\n",
       "      <td>0.26</td>\n",
       "    </tr>\n",
       "    <tr>\n",
       "      <th>18</th>\n",
       "      <td>best</td>\n",
       "      <td>0</td>\n",
       "      <td>1.01</td>\n",
       "      <td>1</td>\n",
       "      <td>0.98</td>\n",
       "      <td>2</td>\n",
       "      <td>0.90</td>\n",
       "      <td>3</td>\n",
       "      <td>0.76</td>\n",
       "      <td>4</td>\n",
       "      <td>0.73</td>\n",
       "    </tr>\n",
       "    <tr>\n",
       "      <th>19</th>\n",
       "      <td>good</td>\n",
       "      <td>0</td>\n",
       "      <td>2.59</td>\n",
       "      <td>1</td>\n",
       "      <td>2.44</td>\n",
       "      <td>2</td>\n",
       "      <td>2.16</td>\n",
       "      <td>3</td>\n",
       "      <td>1.64</td>\n",
       "      <td>4</td>\n",
       "      <td>1.87</td>\n",
       "    </tr>\n",
       "    <tr>\n",
       "      <th>20</th>\n",
       "      <td>kind</td>\n",
       "      <td>0</td>\n",
       "      <td>0.71</td>\n",
       "      <td>1</td>\n",
       "      <td>0.68</td>\n",
       "      <td>2</td>\n",
       "      <td>0.65</td>\n",
       "      <td>3</td>\n",
       "      <td>0.53</td>\n",
       "      <td>4</td>\n",
       "      <td>0.74</td>\n",
       "    </tr>\n",
       "    <tr>\n",
       "      <th>21</th>\n",
       "      <td>alone</td>\n",
       "      <td>0</td>\n",
       "      <td>0.52</td>\n",
       "      <td>1</td>\n",
       "      <td>0.69</td>\n",
       "      <td>2</td>\n",
       "      <td>0.88</td>\n",
       "      <td>3</td>\n",
       "      <td>0.72</td>\n",
       "      <td>4</td>\n",
       "      <td>0.53</td>\n",
       "    </tr>\n",
       "    <tr>\n",
       "      <th>22</th>\n",
       "      <td>well</td>\n",
       "      <td>0</td>\n",
       "      <td>1.55</td>\n",
       "      <td>1</td>\n",
       "      <td>1.49</td>\n",
       "      <td>2</td>\n",
       "      <td>1.37</td>\n",
       "      <td>3</td>\n",
       "      <td>1.63</td>\n",
       "      <td>4</td>\n",
       "      <td>1.31</td>\n",
       "    </tr>\n",
       "    <tr>\n",
       "      <th>23</th>\n",
       "      <td>thank</td>\n",
       "      <td>0</td>\n",
       "      <td>0.33</td>\n",
       "      <td>1</td>\n",
       "      <td>0.39</td>\n",
       "      <td>2</td>\n",
       "      <td>0.71</td>\n",
       "      <td>3</td>\n",
       "      <td>0.58</td>\n",
       "      <td>4</td>\n",
       "      <td>0.44</td>\n",
       "    </tr>\n",
       "    <tr>\n",
       "      <th>24</th>\n",
       "      <td>pretty</td>\n",
       "      <td>0</td>\n",
       "      <td>0.61</td>\n",
       "      <td>1</td>\n",
       "      <td>0.43</td>\n",
       "      <td>2</td>\n",
       "      <td>0.56</td>\n",
       "      <td>3</td>\n",
       "      <td>0.60</td>\n",
       "      <td>4</td>\n",
       "      <td>0.65</td>\n",
       "    </tr>\n",
       "    <tr>\n",
       "      <th>25</th>\n",
       "      <td>strong</td>\n",
       "      <td>0</td>\n",
       "      <td>0.37</td>\n",
       "      <td>1</td>\n",
       "      <td>0.53</td>\n",
       "      <td>2</td>\n",
       "      <td>0.19</td>\n",
       "      <td>3</td>\n",
       "      <td>0.21</td>\n",
       "      <td>4</td>\n",
       "      <td>0.12</td>\n",
       "    </tr>\n",
       "    <tr>\n",
       "      <th>26</th>\n",
       "      <td>love</td>\n",
       "      <td>0</td>\n",
       "      <td>1.61</td>\n",
       "      <td>1</td>\n",
       "      <td>1.25</td>\n",
       "      <td>2</td>\n",
       "      <td>1.27</td>\n",
       "      <td>3</td>\n",
       "      <td>1.33</td>\n",
       "      <td>4</td>\n",
       "      <td>1.24</td>\n",
       "    </tr>\n",
       "    <tr>\n",
       "      <th>27</th>\n",
       "      <td>great</td>\n",
       "      <td>0</td>\n",
       "      <td>0.70</td>\n",
       "      <td>1</td>\n",
       "      <td>0.80</td>\n",
       "      <td>2</td>\n",
       "      <td>0.57</td>\n",
       "      <td>3</td>\n",
       "      <td>0.53</td>\n",
       "      <td>4</td>\n",
       "      <td>0.44</td>\n",
       "    </tr>\n",
       "    <tr>\n",
       "      <th>28</th>\n",
       "      <td>worth</td>\n",
       "      <td>0</td>\n",
       "      <td>0.75</td>\n",
       "      <td>1</td>\n",
       "      <td>0.71</td>\n",
       "      <td>2</td>\n",
       "      <td>0.56</td>\n",
       "      <td>3</td>\n",
       "      <td>0.44</td>\n",
       "      <td>4</td>\n",
       "      <td>0.56</td>\n",
       "    </tr>\n",
       "    <tr>\n",
       "      <th>29</th>\n",
       "      <td>stop</td>\n",
       "      <td>0</td>\n",
       "      <td>0.50</td>\n",
       "      <td>1</td>\n",
       "      <td>0.42</td>\n",
       "      <td>2</td>\n",
       "      <td>0.59</td>\n",
       "      <td>3</td>\n",
       "      <td>0.73</td>\n",
       "      <td>4</td>\n",
       "      <td>0.73</td>\n",
       "    </tr>\n",
       "    <tr>\n",
       "      <th>30</th>\n",
       "      <td>please</td>\n",
       "      <td>0</td>\n",
       "      <td>1.37</td>\n",
       "      <td>1</td>\n",
       "      <td>1.22</td>\n",
       "      <td>2</td>\n",
       "      <td>0.92</td>\n",
       "      <td>3</td>\n",
       "      <td>0.67</td>\n",
       "      <td>4</td>\n",
       "      <td>0.68</td>\n",
       "    </tr>\n",
       "    <tr>\n",
       "      <th>31</th>\n",
       "      <td>happy</td>\n",
       "      <td>0</td>\n",
       "      <td>1.07</td>\n",
       "      <td>1</td>\n",
       "      <td>0.82</td>\n",
       "      <td>2</td>\n",
       "      <td>1.04</td>\n",
       "      <td>3</td>\n",
       "      <td>1.08</td>\n",
       "      <td>4</td>\n",
       "      <td>0.54</td>\n",
       "    </tr>\n",
       "    <tr>\n",
       "      <th>32</th>\n",
       "      <td>wish</td>\n",
       "      <td>0</td>\n",
       "      <td>0.53</td>\n",
       "      <td>1</td>\n",
       "      <td>0.35</td>\n",
       "      <td>2</td>\n",
       "      <td>0.51</td>\n",
       "      <td>3</td>\n",
       "      <td>0.39</td>\n",
       "      <td>4</td>\n",
       "      <td>0.65</td>\n",
       "    </tr>\n",
       "    <tr>\n",
       "      <th>33</th>\n",
       "      <td>friend</td>\n",
       "      <td>0</td>\n",
       "      <td>2.34</td>\n",
       "      <td>1</td>\n",
       "      <td>2.18</td>\n",
       "      <td>2</td>\n",
       "      <td>2.25</td>\n",
       "      <td>3</td>\n",
       "      <td>2.35</td>\n",
       "      <td>4</td>\n",
       "      <td>2.10</td>\n",
       "    </tr>\n",
       "    <tr>\n",
       "      <th>34</th>\n",
       "      <td>depression</td>\n",
       "      <td>0</td>\n",
       "      <td>0.85</td>\n",
       "      <td>1</td>\n",
       "      <td>1.07</td>\n",
       "      <td>2</td>\n",
       "      <td>1.80</td>\n",
       "      <td>3</td>\n",
       "      <td>1.93</td>\n",
       "      <td>4</td>\n",
       "      <td>1.36</td>\n",
       "    </tr>\n",
       "    <tr>\n",
       "      <th>35</th>\n",
       "      <td>ill</td>\n",
       "      <td>0</td>\n",
       "      <td>0.66</td>\n",
       "      <td>1</td>\n",
       "      <td>0.80</td>\n",
       "      <td>2</td>\n",
       "      <td>0.84</td>\n",
       "      <td>3</td>\n",
       "      <td>0.82</td>\n",
       "      <td>4</td>\n",
       "      <td>0.91</td>\n",
       "    </tr>\n",
       "    <tr>\n",
       "      <th>36</th>\n",
       "      <td>anxiety</td>\n",
       "      <td>0</td>\n",
       "      <td>0.30</td>\n",
       "      <td>1</td>\n",
       "      <td>0.37</td>\n",
       "      <td>2</td>\n",
       "      <td>0.52</td>\n",
       "      <td>3</td>\n",
       "      <td>0.43</td>\n",
       "      <td>4</td>\n",
       "      <td>0.69</td>\n",
       "    </tr>\n",
       "    <tr>\n",
       "      <th>37</th>\n",
       "      <td>problem</td>\n",
       "      <td>0</td>\n",
       "      <td>1.21</td>\n",
       "      <td>1</td>\n",
       "      <td>0.90</td>\n",
       "      <td>2</td>\n",
       "      <td>1.01</td>\n",
       "      <td>3</td>\n",
       "      <td>1.18</td>\n",
       "      <td>4</td>\n",
       "      <td>0.95</td>\n",
       "    </tr>\n",
       "    <tr>\n",
       "      <th>38</th>\n",
       "      <td>worse</td>\n",
       "      <td>0</td>\n",
       "      <td>0.42</td>\n",
       "      <td>1</td>\n",
       "      <td>0.34</td>\n",
       "      <td>2</td>\n",
       "      <td>0.45</td>\n",
       "      <td>3</td>\n",
       "      <td>0.70</td>\n",
       "      <td>4</td>\n",
       "      <td>0.59</td>\n",
       "    </tr>\n",
       "    <tr>\n",
       "      <th>39</th>\n",
       "      <td>die</td>\n",
       "      <td>0</td>\n",
       "      <td>0.41</td>\n",
       "      <td>1</td>\n",
       "      <td>0.40</td>\n",
       "      <td>2</td>\n",
       "      <td>0.48</td>\n",
       "      <td>3</td>\n",
       "      <td>0.44</td>\n",
       "      <td>4</td>\n",
       "      <td>0.85</td>\n",
       "    </tr>\n",
       "  </tbody>\n",
       "</table>\n",
       "</div>"
      ],
      "text/plain": [
       "         words  label-0  percentage-0  label-1  percentage-1  label-2  \\\n",
       "0         pain        0          0.63        1          0.91        2   \n",
       "1        tired        0          0.56        1          0.77        2   \n",
       "2         shit        0          0.56        1          0.82        2   \n",
       "3        sorry        0          1.21        1          1.22        2   \n",
       "4         sure        0          1.40        1          1.31        2   \n",
       "5         like        0          2.91        1          3.10        2   \n",
       "6          bad        0          0.99        1          1.02        2   \n",
       "7      feeling        0          1.49        1          1.47        2   \n",
       "8         want        0          3.84        1          3.55        2   \n",
       "9         kill        0          0.61        1          0.48        2   \n",
       "10     suicide        0          1.04        1          0.74        2   \n",
       "11      better        0          2.65        1          2.48        2   \n",
       "12     support        0          0.37        1          0.47        2   \n",
       "13        care        0          1.26        1          1.48        2   \n",
       "14        hope        0          1.42        1          1.23        2   \n",
       "15        help        0          3.25        1          3.33        2   \n",
       "16        hard        0          1.04        1          1.37        2   \n",
       "17        hate        0          0.29        1          0.34        2   \n",
       "18        best        0          1.01        1          0.98        2   \n",
       "19        good        0          2.59        1          2.44        2   \n",
       "20        kind        0          0.71        1          0.68        2   \n",
       "21       alone        0          0.52        1          0.69        2   \n",
       "22        well        0          1.55        1          1.49        2   \n",
       "23       thank        0          0.33        1          0.39        2   \n",
       "24      pretty        0          0.61        1          0.43        2   \n",
       "25      strong        0          0.37        1          0.53        2   \n",
       "26        love        0          1.61        1          1.25        2   \n",
       "27       great        0          0.70        1          0.80        2   \n",
       "28       worth        0          0.75        1          0.71        2   \n",
       "29        stop        0          0.50        1          0.42        2   \n",
       "30      please        0          1.37        1          1.22        2   \n",
       "31       happy        0          1.07        1          0.82        2   \n",
       "32        wish        0          0.53        1          0.35        2   \n",
       "33      friend        0          2.34        1          2.18        2   \n",
       "34  depression        0          0.85        1          1.07        2   \n",
       "35         ill        0          0.66        1          0.80        2   \n",
       "36     anxiety        0          0.30        1          0.37        2   \n",
       "37     problem        0          1.21        1          0.90        2   \n",
       "38       worse        0          0.42        1          0.34        2   \n",
       "39         die        0          0.41        1          0.40        2   \n",
       "\n",
       "    percentage-2  label-3  percentage-3  label-4  percentage-4  \n",
       "0           0.89        3          1.12        4          0.85  \n",
       "1           0.79        3          1.09        4          0.82  \n",
       "2           0.55        3          0.61        4          1.00  \n",
       "3           0.90        3          0.76        4          0.62  \n",
       "4           0.86        3          0.81        4          0.85  \n",
       "5           3.16        3          3.80        4          3.28  \n",
       "6           1.11        3          0.95        4          1.10  \n",
       "7           1.61        3          1.35        4          1.42  \n",
       "8           3.56        3          3.89        4          3.96  \n",
       "9           0.57        3          0.94        4          0.83  \n",
       "10          0.99        3          0.97        4          1.01  \n",
       "11          2.23        3          1.97        4          2.07  \n",
       "12          0.37        3          0.52        4          0.73  \n",
       "13          0.94        3          1.18        4          1.07  \n",
       "14          1.28        3          0.95        4          0.92  \n",
       "15          3.12        3          3.44        4          3.54  \n",
       "16          1.08        3          0.96        4          0.71  \n",
       "17          0.50        3          0.61        4          0.26  \n",
       "18          0.90        3          0.76        4          0.73  \n",
       "19          2.16        3          1.64        4          1.87  \n",
       "20          0.65        3          0.53        4          0.74  \n",
       "21          0.88        3          0.72        4          0.53  \n",
       "22          1.37        3          1.63        4          1.31  \n",
       "23          0.71        3          0.58        4          0.44  \n",
       "24          0.56        3          0.60        4          0.65  \n",
       "25          0.19        3          0.21        4          0.12  \n",
       "26          1.27        3          1.33        4          1.24  \n",
       "27          0.57        3          0.53        4          0.44  \n",
       "28          0.56        3          0.44        4          0.56  \n",
       "29          0.59        3          0.73        4          0.73  \n",
       "30          0.92        3          0.67        4          0.68  \n",
       "31          1.04        3          1.08        4          0.54  \n",
       "32          0.51        3          0.39        4          0.65  \n",
       "33          2.25        3          2.35        4          2.10  \n",
       "34          1.80        3          1.93        4          1.36  \n",
       "35          0.84        3          0.82        4          0.91  \n",
       "36          0.52        3          0.43        4          0.69  \n",
       "37          1.01        3          1.18        4          0.95  \n",
       "38          0.45        3          0.70        4          0.59  \n",
       "39          0.48        3          0.44        4          0.85  "
      ]
     },
     "execution_count": 12,
     "metadata": {},
     "output_type": "execute_result"
    }
   ],
   "source": [
    "# for horizontal merge\n",
    "def all_meaningful_list_freq(all_meaningful, label_n, num): \n",
    "    somewords = []\n",
    "    for w in label_n.split():\n",
    "        if w in all_meaningful:\n",
    "            somewords.append(w)\n",
    "    wordfreq = [somewords.count(i) for i in somewords]\n",
    "    d = dict(zip(somewords,wordfreq))\n",
    "    df = pd.DataFrame(d.items(),columns=[\"words\", \"counts-\"+str(num)])\n",
    "    df[\"label-\"+str(num)] = num\n",
    "    df[\"percentage-\"+str(num)] = round((df[\"counts-\"+str(num)]/len(label_n.split()))*100,2)\n",
    "    df = df.drop(columns=\"counts-\"+str(num))\n",
    "    return df\n",
    "\n",
    "final_0 = all_meaningful_list_freq(all_meaningful, label_0, 0)\n",
    "final_1 = all_meaningful_list_freq(all_meaningful, label_1, 1)\n",
    "final_2 = all_meaningful_list_freq(all_meaningful, label_2, 2)\n",
    "final_3 = all_meaningful_list_freq(all_meaningful, label_3, 3)\n",
    "final_4 = all_meaningful_list_freq(all_meaningful, label_4, 4)\n",
    "data_frames2 = [final_0, final_1, final_2, final_3, final_4]\n",
    "df_merged2 = df_merged = reduce(lambda  left,right: pd.merge(left,right,on=['words'],how='outer'), data_frames2).fillna('void')\n",
    "df_merged2"
   ]
  },
  {
   "cell_type": "code",
   "execution_count": 14,
   "metadata": {},
   "outputs": [
    {
     "data": {
      "text/html": [
       "<div>\n",
       "<style scoped>\n",
       "    .dataframe tbody tr th:only-of-type {\n",
       "        vertical-align: middle;\n",
       "    }\n",
       "\n",
       "    .dataframe tbody tr th {\n",
       "        vertical-align: top;\n",
       "    }\n",
       "\n",
       "    .dataframe thead th {\n",
       "        text-align: right;\n",
       "    }\n",
       "</style>\n",
       "<table border=\"1\" class=\"dataframe\">\n",
       "  <thead>\n",
       "    <tr style=\"text-align: right;\">\n",
       "      <th></th>\n",
       "      <th>words</th>\n",
       "      <th>label-0</th>\n",
       "      <th>percentage-0</th>\n",
       "      <th>label-1</th>\n",
       "      <th>percentage-1</th>\n",
       "      <th>label-2</th>\n",
       "      <th>percentage-2</th>\n",
       "      <th>label-3</th>\n",
       "      <th>percentage-3</th>\n",
       "      <th>label-4</th>\n",
       "      <th>percentage-4</th>\n",
       "    </tr>\n",
       "  </thead>\n",
       "  <tbody>\n",
       "    <tr>\n",
       "      <th>8</th>\n",
       "      <td>want</td>\n",
       "      <td>0</td>\n",
       "      <td>3.84</td>\n",
       "      <td>1</td>\n",
       "      <td>3.55</td>\n",
       "      <td>2</td>\n",
       "      <td>3.56</td>\n",
       "      <td>3</td>\n",
       "      <td>3.89</td>\n",
       "      <td>4</td>\n",
       "      <td>3.96</td>\n",
       "    </tr>\n",
       "    <tr>\n",
       "      <th>15</th>\n",
       "      <td>help</td>\n",
       "      <td>0</td>\n",
       "      <td>3.25</td>\n",
       "      <td>1</td>\n",
       "      <td>3.33</td>\n",
       "      <td>2</td>\n",
       "      <td>3.12</td>\n",
       "      <td>3</td>\n",
       "      <td>3.44</td>\n",
       "      <td>4</td>\n",
       "      <td>3.54</td>\n",
       "    </tr>\n",
       "    <tr>\n",
       "      <th>5</th>\n",
       "      <td>like</td>\n",
       "      <td>0</td>\n",
       "      <td>2.91</td>\n",
       "      <td>1</td>\n",
       "      <td>3.10</td>\n",
       "      <td>2</td>\n",
       "      <td>3.16</td>\n",
       "      <td>3</td>\n",
       "      <td>3.80</td>\n",
       "      <td>4</td>\n",
       "      <td>3.28</td>\n",
       "    </tr>\n",
       "    <tr>\n",
       "      <th>11</th>\n",
       "      <td>better</td>\n",
       "      <td>0</td>\n",
       "      <td>2.65</td>\n",
       "      <td>1</td>\n",
       "      <td>2.48</td>\n",
       "      <td>2</td>\n",
       "      <td>2.23</td>\n",
       "      <td>3</td>\n",
       "      <td>1.97</td>\n",
       "      <td>4</td>\n",
       "      <td>2.07</td>\n",
       "    </tr>\n",
       "    <tr>\n",
       "      <th>19</th>\n",
       "      <td>good</td>\n",
       "      <td>0</td>\n",
       "      <td>2.59</td>\n",
       "      <td>1</td>\n",
       "      <td>2.44</td>\n",
       "      <td>2</td>\n",
       "      <td>2.16</td>\n",
       "      <td>3</td>\n",
       "      <td>1.64</td>\n",
       "      <td>4</td>\n",
       "      <td>1.87</td>\n",
       "    </tr>\n",
       "    <tr>\n",
       "      <th>33</th>\n",
       "      <td>friend</td>\n",
       "      <td>0</td>\n",
       "      <td>2.34</td>\n",
       "      <td>1</td>\n",
       "      <td>2.18</td>\n",
       "      <td>2</td>\n",
       "      <td>2.25</td>\n",
       "      <td>3</td>\n",
       "      <td>2.35</td>\n",
       "      <td>4</td>\n",
       "      <td>2.10</td>\n",
       "    </tr>\n",
       "    <tr>\n",
       "      <th>26</th>\n",
       "      <td>love</td>\n",
       "      <td>0</td>\n",
       "      <td>1.61</td>\n",
       "      <td>1</td>\n",
       "      <td>1.25</td>\n",
       "      <td>2</td>\n",
       "      <td>1.27</td>\n",
       "      <td>3</td>\n",
       "      <td>1.33</td>\n",
       "      <td>4</td>\n",
       "      <td>1.24</td>\n",
       "    </tr>\n",
       "    <tr>\n",
       "      <th>22</th>\n",
       "      <td>well</td>\n",
       "      <td>0</td>\n",
       "      <td>1.55</td>\n",
       "      <td>1</td>\n",
       "      <td>1.49</td>\n",
       "      <td>2</td>\n",
       "      <td>1.37</td>\n",
       "      <td>3</td>\n",
       "      <td>1.63</td>\n",
       "      <td>4</td>\n",
       "      <td>1.31</td>\n",
       "    </tr>\n",
       "    <tr>\n",
       "      <th>7</th>\n",
       "      <td>feeling</td>\n",
       "      <td>0</td>\n",
       "      <td>1.49</td>\n",
       "      <td>1</td>\n",
       "      <td>1.47</td>\n",
       "      <td>2</td>\n",
       "      <td>1.61</td>\n",
       "      <td>3</td>\n",
       "      <td>1.35</td>\n",
       "      <td>4</td>\n",
       "      <td>1.42</td>\n",
       "    </tr>\n",
       "    <tr>\n",
       "      <th>14</th>\n",
       "      <td>hope</td>\n",
       "      <td>0</td>\n",
       "      <td>1.42</td>\n",
       "      <td>1</td>\n",
       "      <td>1.23</td>\n",
       "      <td>2</td>\n",
       "      <td>1.28</td>\n",
       "      <td>3</td>\n",
       "      <td>0.95</td>\n",
       "      <td>4</td>\n",
       "      <td>0.92</td>\n",
       "    </tr>\n",
       "    <tr>\n",
       "      <th>4</th>\n",
       "      <td>sure</td>\n",
       "      <td>0</td>\n",
       "      <td>1.40</td>\n",
       "      <td>1</td>\n",
       "      <td>1.31</td>\n",
       "      <td>2</td>\n",
       "      <td>0.86</td>\n",
       "      <td>3</td>\n",
       "      <td>0.81</td>\n",
       "      <td>4</td>\n",
       "      <td>0.85</td>\n",
       "    </tr>\n",
       "    <tr>\n",
       "      <th>30</th>\n",
       "      <td>please</td>\n",
       "      <td>0</td>\n",
       "      <td>1.37</td>\n",
       "      <td>1</td>\n",
       "      <td>1.22</td>\n",
       "      <td>2</td>\n",
       "      <td>0.92</td>\n",
       "      <td>3</td>\n",
       "      <td>0.67</td>\n",
       "      <td>4</td>\n",
       "      <td>0.68</td>\n",
       "    </tr>\n",
       "    <tr>\n",
       "      <th>13</th>\n",
       "      <td>care</td>\n",
       "      <td>0</td>\n",
       "      <td>1.26</td>\n",
       "      <td>1</td>\n",
       "      <td>1.48</td>\n",
       "      <td>2</td>\n",
       "      <td>0.94</td>\n",
       "      <td>3</td>\n",
       "      <td>1.18</td>\n",
       "      <td>4</td>\n",
       "      <td>1.07</td>\n",
       "    </tr>\n",
       "    <tr>\n",
       "      <th>3</th>\n",
       "      <td>sorry</td>\n",
       "      <td>0</td>\n",
       "      <td>1.21</td>\n",
       "      <td>1</td>\n",
       "      <td>1.22</td>\n",
       "      <td>2</td>\n",
       "      <td>0.90</td>\n",
       "      <td>3</td>\n",
       "      <td>0.76</td>\n",
       "      <td>4</td>\n",
       "      <td>0.62</td>\n",
       "    </tr>\n",
       "    <tr>\n",
       "      <th>37</th>\n",
       "      <td>problem</td>\n",
       "      <td>0</td>\n",
       "      <td>1.21</td>\n",
       "      <td>1</td>\n",
       "      <td>0.90</td>\n",
       "      <td>2</td>\n",
       "      <td>1.01</td>\n",
       "      <td>3</td>\n",
       "      <td>1.18</td>\n",
       "      <td>4</td>\n",
       "      <td>0.95</td>\n",
       "    </tr>\n",
       "    <tr>\n",
       "      <th>31</th>\n",
       "      <td>happy</td>\n",
       "      <td>0</td>\n",
       "      <td>1.07</td>\n",
       "      <td>1</td>\n",
       "      <td>0.82</td>\n",
       "      <td>2</td>\n",
       "      <td>1.04</td>\n",
       "      <td>3</td>\n",
       "      <td>1.08</td>\n",
       "      <td>4</td>\n",
       "      <td>0.54</td>\n",
       "    </tr>\n",
       "    <tr>\n",
       "      <th>16</th>\n",
       "      <td>hard</td>\n",
       "      <td>0</td>\n",
       "      <td>1.04</td>\n",
       "      <td>1</td>\n",
       "      <td>1.37</td>\n",
       "      <td>2</td>\n",
       "      <td>1.08</td>\n",
       "      <td>3</td>\n",
       "      <td>0.96</td>\n",
       "      <td>4</td>\n",
       "      <td>0.71</td>\n",
       "    </tr>\n",
       "    <tr>\n",
       "      <th>10</th>\n",
       "      <td>suicide</td>\n",
       "      <td>0</td>\n",
       "      <td>1.04</td>\n",
       "      <td>1</td>\n",
       "      <td>0.74</td>\n",
       "      <td>2</td>\n",
       "      <td>0.99</td>\n",
       "      <td>3</td>\n",
       "      <td>0.97</td>\n",
       "      <td>4</td>\n",
       "      <td>1.01</td>\n",
       "    </tr>\n",
       "    <tr>\n",
       "      <th>18</th>\n",
       "      <td>best</td>\n",
       "      <td>0</td>\n",
       "      <td>1.01</td>\n",
       "      <td>1</td>\n",
       "      <td>0.98</td>\n",
       "      <td>2</td>\n",
       "      <td>0.90</td>\n",
       "      <td>3</td>\n",
       "      <td>0.76</td>\n",
       "      <td>4</td>\n",
       "      <td>0.73</td>\n",
       "    </tr>\n",
       "    <tr>\n",
       "      <th>6</th>\n",
       "      <td>bad</td>\n",
       "      <td>0</td>\n",
       "      <td>0.99</td>\n",
       "      <td>1</td>\n",
       "      <td>1.02</td>\n",
       "      <td>2</td>\n",
       "      <td>1.11</td>\n",
       "      <td>3</td>\n",
       "      <td>0.95</td>\n",
       "      <td>4</td>\n",
       "      <td>1.10</td>\n",
       "    </tr>\n",
       "    <tr>\n",
       "      <th>34</th>\n",
       "      <td>depression</td>\n",
       "      <td>0</td>\n",
       "      <td>0.85</td>\n",
       "      <td>1</td>\n",
       "      <td>1.07</td>\n",
       "      <td>2</td>\n",
       "      <td>1.80</td>\n",
       "      <td>3</td>\n",
       "      <td>1.93</td>\n",
       "      <td>4</td>\n",
       "      <td>1.36</td>\n",
       "    </tr>\n",
       "    <tr>\n",
       "      <th>28</th>\n",
       "      <td>worth</td>\n",
       "      <td>0</td>\n",
       "      <td>0.75</td>\n",
       "      <td>1</td>\n",
       "      <td>0.71</td>\n",
       "      <td>2</td>\n",
       "      <td>0.56</td>\n",
       "      <td>3</td>\n",
       "      <td>0.44</td>\n",
       "      <td>4</td>\n",
       "      <td>0.56</td>\n",
       "    </tr>\n",
       "    <tr>\n",
       "      <th>20</th>\n",
       "      <td>kind</td>\n",
       "      <td>0</td>\n",
       "      <td>0.71</td>\n",
       "      <td>1</td>\n",
       "      <td>0.68</td>\n",
       "      <td>2</td>\n",
       "      <td>0.65</td>\n",
       "      <td>3</td>\n",
       "      <td>0.53</td>\n",
       "      <td>4</td>\n",
       "      <td>0.74</td>\n",
       "    </tr>\n",
       "    <tr>\n",
       "      <th>27</th>\n",
       "      <td>great</td>\n",
       "      <td>0</td>\n",
       "      <td>0.70</td>\n",
       "      <td>1</td>\n",
       "      <td>0.80</td>\n",
       "      <td>2</td>\n",
       "      <td>0.57</td>\n",
       "      <td>3</td>\n",
       "      <td>0.53</td>\n",
       "      <td>4</td>\n",
       "      <td>0.44</td>\n",
       "    </tr>\n",
       "    <tr>\n",
       "      <th>35</th>\n",
       "      <td>ill</td>\n",
       "      <td>0</td>\n",
       "      <td>0.66</td>\n",
       "      <td>1</td>\n",
       "      <td>0.80</td>\n",
       "      <td>2</td>\n",
       "      <td>0.84</td>\n",
       "      <td>3</td>\n",
       "      <td>0.82</td>\n",
       "      <td>4</td>\n",
       "      <td>0.91</td>\n",
       "    </tr>\n",
       "    <tr>\n",
       "      <th>0</th>\n",
       "      <td>pain</td>\n",
       "      <td>0</td>\n",
       "      <td>0.63</td>\n",
       "      <td>1</td>\n",
       "      <td>0.91</td>\n",
       "      <td>2</td>\n",
       "      <td>0.89</td>\n",
       "      <td>3</td>\n",
       "      <td>1.12</td>\n",
       "      <td>4</td>\n",
       "      <td>0.85</td>\n",
       "    </tr>\n",
       "    <tr>\n",
       "      <th>9</th>\n",
       "      <td>kill</td>\n",
       "      <td>0</td>\n",
       "      <td>0.61</td>\n",
       "      <td>1</td>\n",
       "      <td>0.48</td>\n",
       "      <td>2</td>\n",
       "      <td>0.57</td>\n",
       "      <td>3</td>\n",
       "      <td>0.94</td>\n",
       "      <td>4</td>\n",
       "      <td>0.83</td>\n",
       "    </tr>\n",
       "    <tr>\n",
       "      <th>24</th>\n",
       "      <td>pretty</td>\n",
       "      <td>0</td>\n",
       "      <td>0.61</td>\n",
       "      <td>1</td>\n",
       "      <td>0.43</td>\n",
       "      <td>2</td>\n",
       "      <td>0.56</td>\n",
       "      <td>3</td>\n",
       "      <td>0.60</td>\n",
       "      <td>4</td>\n",
       "      <td>0.65</td>\n",
       "    </tr>\n",
       "    <tr>\n",
       "      <th>2</th>\n",
       "      <td>shit</td>\n",
       "      <td>0</td>\n",
       "      <td>0.56</td>\n",
       "      <td>1</td>\n",
       "      <td>0.82</td>\n",
       "      <td>2</td>\n",
       "      <td>0.55</td>\n",
       "      <td>3</td>\n",
       "      <td>0.61</td>\n",
       "      <td>4</td>\n",
       "      <td>1.00</td>\n",
       "    </tr>\n",
       "    <tr>\n",
       "      <th>1</th>\n",
       "      <td>tired</td>\n",
       "      <td>0</td>\n",
       "      <td>0.56</td>\n",
       "      <td>1</td>\n",
       "      <td>0.77</td>\n",
       "      <td>2</td>\n",
       "      <td>0.79</td>\n",
       "      <td>3</td>\n",
       "      <td>1.09</td>\n",
       "      <td>4</td>\n",
       "      <td>0.82</td>\n",
       "    </tr>\n",
       "    <tr>\n",
       "      <th>32</th>\n",
       "      <td>wish</td>\n",
       "      <td>0</td>\n",
       "      <td>0.53</td>\n",
       "      <td>1</td>\n",
       "      <td>0.35</td>\n",
       "      <td>2</td>\n",
       "      <td>0.51</td>\n",
       "      <td>3</td>\n",
       "      <td>0.39</td>\n",
       "      <td>4</td>\n",
       "      <td>0.65</td>\n",
       "    </tr>\n",
       "    <tr>\n",
       "      <th>21</th>\n",
       "      <td>alone</td>\n",
       "      <td>0</td>\n",
       "      <td>0.52</td>\n",
       "      <td>1</td>\n",
       "      <td>0.69</td>\n",
       "      <td>2</td>\n",
       "      <td>0.88</td>\n",
       "      <td>3</td>\n",
       "      <td>0.72</td>\n",
       "      <td>4</td>\n",
       "      <td>0.53</td>\n",
       "    </tr>\n",
       "    <tr>\n",
       "      <th>29</th>\n",
       "      <td>stop</td>\n",
       "      <td>0</td>\n",
       "      <td>0.50</td>\n",
       "      <td>1</td>\n",
       "      <td>0.42</td>\n",
       "      <td>2</td>\n",
       "      <td>0.59</td>\n",
       "      <td>3</td>\n",
       "      <td>0.73</td>\n",
       "      <td>4</td>\n",
       "      <td>0.73</td>\n",
       "    </tr>\n",
       "    <tr>\n",
       "      <th>38</th>\n",
       "      <td>worse</td>\n",
       "      <td>0</td>\n",
       "      <td>0.42</td>\n",
       "      <td>1</td>\n",
       "      <td>0.34</td>\n",
       "      <td>2</td>\n",
       "      <td>0.45</td>\n",
       "      <td>3</td>\n",
       "      <td>0.70</td>\n",
       "      <td>4</td>\n",
       "      <td>0.59</td>\n",
       "    </tr>\n",
       "    <tr>\n",
       "      <th>39</th>\n",
       "      <td>die</td>\n",
       "      <td>0</td>\n",
       "      <td>0.41</td>\n",
       "      <td>1</td>\n",
       "      <td>0.40</td>\n",
       "      <td>2</td>\n",
       "      <td>0.48</td>\n",
       "      <td>3</td>\n",
       "      <td>0.44</td>\n",
       "      <td>4</td>\n",
       "      <td>0.85</td>\n",
       "    </tr>\n",
       "    <tr>\n",
       "      <th>25</th>\n",
       "      <td>strong</td>\n",
       "      <td>0</td>\n",
       "      <td>0.37</td>\n",
       "      <td>1</td>\n",
       "      <td>0.53</td>\n",
       "      <td>2</td>\n",
       "      <td>0.19</td>\n",
       "      <td>3</td>\n",
       "      <td>0.21</td>\n",
       "      <td>4</td>\n",
       "      <td>0.12</td>\n",
       "    </tr>\n",
       "    <tr>\n",
       "      <th>12</th>\n",
       "      <td>support</td>\n",
       "      <td>0</td>\n",
       "      <td>0.37</td>\n",
       "      <td>1</td>\n",
       "      <td>0.47</td>\n",
       "      <td>2</td>\n",
       "      <td>0.37</td>\n",
       "      <td>3</td>\n",
       "      <td>0.52</td>\n",
       "      <td>4</td>\n",
       "      <td>0.73</td>\n",
       "    </tr>\n",
       "    <tr>\n",
       "      <th>23</th>\n",
       "      <td>thank</td>\n",
       "      <td>0</td>\n",
       "      <td>0.33</td>\n",
       "      <td>1</td>\n",
       "      <td>0.39</td>\n",
       "      <td>2</td>\n",
       "      <td>0.71</td>\n",
       "      <td>3</td>\n",
       "      <td>0.58</td>\n",
       "      <td>4</td>\n",
       "      <td>0.44</td>\n",
       "    </tr>\n",
       "    <tr>\n",
       "      <th>36</th>\n",
       "      <td>anxiety</td>\n",
       "      <td>0</td>\n",
       "      <td>0.30</td>\n",
       "      <td>1</td>\n",
       "      <td>0.37</td>\n",
       "      <td>2</td>\n",
       "      <td>0.52</td>\n",
       "      <td>3</td>\n",
       "      <td>0.43</td>\n",
       "      <td>4</td>\n",
       "      <td>0.69</td>\n",
       "    </tr>\n",
       "    <tr>\n",
       "      <th>17</th>\n",
       "      <td>hate</td>\n",
       "      <td>0</td>\n",
       "      <td>0.29</td>\n",
       "      <td>1</td>\n",
       "      <td>0.34</td>\n",
       "      <td>2</td>\n",
       "      <td>0.50</td>\n",
       "      <td>3</td>\n",
       "      <td>0.61</td>\n",
       "      <td>4</td>\n",
       "      <td>0.26</td>\n",
       "    </tr>\n",
       "  </tbody>\n",
       "</table>\n",
       "</div>"
      ],
      "text/plain": [
       "         words  label-0  percentage-0  label-1  percentage-1  label-2  \\\n",
       "8         want        0          3.84        1          3.55        2   \n",
       "15        help        0          3.25        1          3.33        2   \n",
       "5         like        0          2.91        1          3.10        2   \n",
       "11      better        0          2.65        1          2.48        2   \n",
       "19        good        0          2.59        1          2.44        2   \n",
       "33      friend        0          2.34        1          2.18        2   \n",
       "26        love        0          1.61        1          1.25        2   \n",
       "22        well        0          1.55        1          1.49        2   \n",
       "7      feeling        0          1.49        1          1.47        2   \n",
       "14        hope        0          1.42        1          1.23        2   \n",
       "4         sure        0          1.40        1          1.31        2   \n",
       "30      please        0          1.37        1          1.22        2   \n",
       "13        care        0          1.26        1          1.48        2   \n",
       "3        sorry        0          1.21        1          1.22        2   \n",
       "37     problem        0          1.21        1          0.90        2   \n",
       "31       happy        0          1.07        1          0.82        2   \n",
       "16        hard        0          1.04        1          1.37        2   \n",
       "10     suicide        0          1.04        1          0.74        2   \n",
       "18        best        0          1.01        1          0.98        2   \n",
       "6          bad        0          0.99        1          1.02        2   \n",
       "34  depression        0          0.85        1          1.07        2   \n",
       "28       worth        0          0.75        1          0.71        2   \n",
       "20        kind        0          0.71        1          0.68        2   \n",
       "27       great        0          0.70        1          0.80        2   \n",
       "35         ill        0          0.66        1          0.80        2   \n",
       "0         pain        0          0.63        1          0.91        2   \n",
       "9         kill        0          0.61        1          0.48        2   \n",
       "24      pretty        0          0.61        1          0.43        2   \n",
       "2         shit        0          0.56        1          0.82        2   \n",
       "1        tired        0          0.56        1          0.77        2   \n",
       "32        wish        0          0.53        1          0.35        2   \n",
       "21       alone        0          0.52        1          0.69        2   \n",
       "29        stop        0          0.50        1          0.42        2   \n",
       "38       worse        0          0.42        1          0.34        2   \n",
       "39         die        0          0.41        1          0.40        2   \n",
       "25      strong        0          0.37        1          0.53        2   \n",
       "12     support        0          0.37        1          0.47        2   \n",
       "23       thank        0          0.33        1          0.39        2   \n",
       "36     anxiety        0          0.30        1          0.37        2   \n",
       "17        hate        0          0.29        1          0.34        2   \n",
       "\n",
       "    percentage-2  label-3  percentage-3  label-4  percentage-4  \n",
       "8           3.56        3          3.89        4          3.96  \n",
       "15          3.12        3          3.44        4          3.54  \n",
       "5           3.16        3          3.80        4          3.28  \n",
       "11          2.23        3          1.97        4          2.07  \n",
       "19          2.16        3          1.64        4          1.87  \n",
       "33          2.25        3          2.35        4          2.10  \n",
       "26          1.27        3          1.33        4          1.24  \n",
       "22          1.37        3          1.63        4          1.31  \n",
       "7           1.61        3          1.35        4          1.42  \n",
       "14          1.28        3          0.95        4          0.92  \n",
       "4           0.86        3          0.81        4          0.85  \n",
       "30          0.92        3          0.67        4          0.68  \n",
       "13          0.94        3          1.18        4          1.07  \n",
       "3           0.90        3          0.76        4          0.62  \n",
       "37          1.01        3          1.18        4          0.95  \n",
       "31          1.04        3          1.08        4          0.54  \n",
       "16          1.08        3          0.96        4          0.71  \n",
       "10          0.99        3          0.97        4          1.01  \n",
       "18          0.90        3          0.76        4          0.73  \n",
       "6           1.11        3          0.95        4          1.10  \n",
       "34          1.80        3          1.93        4          1.36  \n",
       "28          0.56        3          0.44        4          0.56  \n",
       "20          0.65        3          0.53        4          0.74  \n",
       "27          0.57        3          0.53        4          0.44  \n",
       "35          0.84        3          0.82        4          0.91  \n",
       "0           0.89        3          1.12        4          0.85  \n",
       "9           0.57        3          0.94        4          0.83  \n",
       "24          0.56        3          0.60        4          0.65  \n",
       "2           0.55        3          0.61        4          1.00  \n",
       "1           0.79        3          1.09        4          0.82  \n",
       "32          0.51        3          0.39        4          0.65  \n",
       "21          0.88        3          0.72        4          0.53  \n",
       "29          0.59        3          0.73        4          0.73  \n",
       "38          0.45        3          0.70        4          0.59  \n",
       "39          0.48        3          0.44        4          0.85  \n",
       "25          0.19        3          0.21        4          0.12  \n",
       "12          0.37        3          0.52        4          0.73  \n",
       "23          0.71        3          0.58        4          0.44  \n",
       "36          0.52        3          0.43        4          0.69  \n",
       "17          0.50        3          0.61        4          0.26  "
      ]
     },
     "execution_count": 14,
     "metadata": {},
     "output_type": "execute_result"
    }
   ],
   "source": [
    "# sorting \n",
    "df_merged2_sorted = df_merged2.sort_values(['percentage-0', 'percentage-1', 'percentage-2', 'percentage-3', 'percentage-4'], ascending=[False, False, False, False, False])\n",
    "df_merged2_sorted.to_csv(\"df_merged2_sorted.csv\", index = False)\n",
    "df_merged2_sorted"
   ]
  },
  {
   "cell_type": "code",
   "execution_count": 21,
   "metadata": {},
   "outputs": [
    {
     "data": {
      "text/html": [
       "        <script type=\"text/javascript\">\n",
       "        window.PlotlyConfig = {MathJaxConfig: 'local'};\n",
       "        if (window.MathJax) {MathJax.Hub.Config({SVG: {font: \"STIX-Web\"}});}\n",
       "        if (typeof require !== 'undefined') {\n",
       "        require.undef(\"plotly\");\n",
       "        requirejs.config({\n",
       "            paths: {\n",
       "                'plotly': ['https://cdn.plot.ly/plotly-2.6.3.min']\n",
       "            }\n",
       "        });\n",
       "        require(['plotly'], function(Plotly) {\n",
       "            window._Plotly = Plotly;\n",
       "        });\n",
       "        }\n",
       "        </script>\n",
       "        "
      ]
     },
     "metadata": {},
     "output_type": "display_data"
    },
    {
     "data": {
      "text/html": [
       "        <script type=\"text/javascript\">\n",
       "        window.PlotlyConfig = {MathJaxConfig: 'local'};\n",
       "        if (window.MathJax) {MathJax.Hub.Config({SVG: {font: \"STIX-Web\"}});}\n",
       "        if (typeof require !== 'undefined') {\n",
       "        require.undef(\"plotly\");\n",
       "        requirejs.config({\n",
       "            paths: {\n",
       "                'plotly': ['https://cdn.plot.ly/plotly-2.6.3.min']\n",
       "            }\n",
       "        });\n",
       "        require(['plotly'], function(Plotly) {\n",
       "            window._Plotly = Plotly;\n",
       "        });\n",
       "        }\n",
       "        </script>\n",
       "        "
      ]
     },
     "metadata": {},
     "output_type": "display_data"
    },
    {
     "data": {
      "application/vnd.plotly.v1+json": {
       "config": {
        "plotlyServerURL": "https://plot.ly"
       },
       "data": [
        {
         "name": "Supportive",
         "opacity": 0.75,
         "type": "bar",
         "x": [
          "want",
          "help",
          "like",
          "better",
          "good",
          "friend",
          "love",
          "well",
          "feeling",
          "hope",
          "sure",
          "please",
          "care",
          "sorry",
          "problem",
          "happy",
          "hard",
          "suicide",
          "best",
          "bad",
          "depression",
          "worth",
          "kind",
          "great",
          "ill",
          "pain",
          "kill",
          "pretty",
          "shit",
          "tired",
          "wish",
          "alone",
          "stop",
          "worse",
          "die",
          "strong",
          "support",
          "thank",
          "anxiety",
          "hate"
         ],
         "y": [
          3.84,
          3.25,
          2.91,
          2.65,
          2.59,
          2.34,
          1.61,
          1.55,
          1.49,
          1.42,
          1.4,
          1.37,
          1.26,
          1.21,
          1.21,
          1.07,
          1.04,
          1.04,
          1.01,
          0.99,
          0.85,
          0.75,
          0.71,
          0.7,
          0.66,
          0.63,
          0.61,
          0.61,
          0.56,
          0.56,
          0.53,
          0.52,
          0.5,
          0.42,
          0.41,
          0.37,
          0.37,
          0.33,
          0.3,
          0.29
         ]
        },
        {
         "name": "Indicator",
         "opacity": 0.75,
         "type": "bar",
         "x": [
          "want",
          "help",
          "like",
          "better",
          "good",
          "friend",
          "love",
          "well",
          "feeling",
          "hope",
          "sure",
          "please",
          "care",
          "sorry",
          "problem",
          "happy",
          "hard",
          "suicide",
          "best",
          "bad",
          "depression",
          "worth",
          "kind",
          "great",
          "ill",
          "pain",
          "kill",
          "pretty",
          "shit",
          "tired",
          "wish",
          "alone",
          "stop",
          "worse",
          "die",
          "strong",
          "support",
          "thank",
          "anxiety",
          "hate"
         ],
         "y": [
          3.55,
          3.33,
          3.1,
          2.48,
          2.44,
          2.18,
          1.25,
          1.49,
          1.47,
          1.23,
          1.31,
          1.22,
          1.48,
          1.22,
          0.9,
          0.82,
          1.37,
          0.74,
          0.98,
          1.02,
          1.07,
          0.71,
          0.68,
          0.8,
          0.8,
          0.91,
          0.48,
          0.43,
          0.82,
          0.77,
          0.35,
          0.69,
          0.42,
          0.34,
          0.4,
          0.53,
          0.47,
          0.39,
          0.37,
          0.34
         ]
        },
        {
         "name": "Ideation",
         "opacity": 0.75,
         "type": "bar",
         "x": [
          "want",
          "help",
          "like",
          "better",
          "good",
          "friend",
          "love",
          "well",
          "feeling",
          "hope",
          "sure",
          "please",
          "care",
          "sorry",
          "problem",
          "happy",
          "hard",
          "suicide",
          "best",
          "bad",
          "depression",
          "worth",
          "kind",
          "great",
          "ill",
          "pain",
          "kill",
          "pretty",
          "shit",
          "tired",
          "wish",
          "alone",
          "stop",
          "worse",
          "die",
          "strong",
          "support",
          "thank",
          "anxiety",
          "hate"
         ],
         "y": [
          3.56,
          3.12,
          3.16,
          2.23,
          2.16,
          2.25,
          1.27,
          1.37,
          1.61,
          1.28,
          0.86,
          0.92,
          0.94,
          0.9,
          1.01,
          1.04,
          1.08,
          0.99,
          0.9,
          1.11,
          1.8,
          0.56,
          0.65,
          0.57,
          0.84,
          0.89,
          0.57,
          0.56,
          0.55,
          0.79,
          0.51,
          0.88,
          0.59,
          0.45,
          0.48,
          0.19,
          0.37,
          0.71,
          0.52,
          0.5
         ]
        },
        {
         "name": "Behavior",
         "opacity": 0.75,
         "type": "bar",
         "x": [
          "want",
          "help",
          "like",
          "better",
          "good",
          "friend",
          "love",
          "well",
          "feeling",
          "hope",
          "sure",
          "please",
          "care",
          "sorry",
          "problem",
          "happy",
          "hard",
          "suicide",
          "best",
          "bad",
          "depression",
          "worth",
          "kind",
          "great",
          "ill",
          "pain",
          "kill",
          "pretty",
          "shit",
          "tired",
          "wish",
          "alone",
          "stop",
          "worse",
          "die",
          "strong",
          "support",
          "thank",
          "anxiety",
          "hate"
         ],
         "y": [
          3.89,
          3.44,
          3.8,
          1.97,
          1.64,
          2.35,
          1.33,
          1.63,
          1.35,
          0.95,
          0.81,
          0.67,
          1.18,
          0.76,
          1.18,
          1.08,
          0.96,
          0.97,
          0.76,
          0.95,
          1.93,
          0.44,
          0.53,
          0.53,
          0.82,
          1.12,
          0.94,
          0.6,
          0.61,
          1.09,
          0.39,
          0.72,
          0.73,
          0.7,
          0.44,
          0.21,
          0.52,
          0.58,
          0.43,
          0.61
         ]
        },
        {
         "name": "Attempt",
         "opacity": 0.75,
         "type": "bar",
         "x": [
          "want",
          "help",
          "like",
          "better",
          "good",
          "friend",
          "love",
          "well",
          "feeling",
          "hope",
          "sure",
          "please",
          "care",
          "sorry",
          "problem",
          "happy",
          "hard",
          "suicide",
          "best",
          "bad",
          "depression",
          "worth",
          "kind",
          "great",
          "ill",
          "pain",
          "kill",
          "pretty",
          "shit",
          "tired",
          "wish",
          "alone",
          "stop",
          "worse",
          "die",
          "strong",
          "support",
          "thank",
          "anxiety",
          "hate"
         ],
         "y": [
          3.96,
          3.54,
          3.28,
          2.07,
          1.87,
          2.1,
          1.24,
          1.31,
          1.42,
          0.92,
          0.85,
          0.68,
          1.07,
          0.62,
          0.95,
          0.54,
          0.71,
          1.01,
          0.73,
          1.1,
          1.36,
          0.56,
          0.74,
          0.44,
          0.91,
          0.85,
          0.83,
          0.65,
          1,
          0.82,
          0.65,
          0.53,
          0.73,
          0.59,
          0.85,
          0.12,
          0.73,
          0.44,
          0.69,
          0.26
         ]
        }
       ],
       "layout": {
        "template": {
         "data": {
          "bar": [
           {
            "error_x": {
             "color": "#2a3f5f"
            },
            "error_y": {
             "color": "#2a3f5f"
            },
            "marker": {
             "line": {
              "color": "#E5ECF6",
              "width": 0.5
             },
             "pattern": {
              "fillmode": "overlay",
              "size": 10,
              "solidity": 0.2
             }
            },
            "type": "bar"
           }
          ],
          "barpolar": [
           {
            "marker": {
             "line": {
              "color": "#E5ECF6",
              "width": 0.5
             },
             "pattern": {
              "fillmode": "overlay",
              "size": 10,
              "solidity": 0.2
             }
            },
            "type": "barpolar"
           }
          ],
          "carpet": [
           {
            "aaxis": {
             "endlinecolor": "#2a3f5f",
             "gridcolor": "white",
             "linecolor": "white",
             "minorgridcolor": "white",
             "startlinecolor": "#2a3f5f"
            },
            "baxis": {
             "endlinecolor": "#2a3f5f",
             "gridcolor": "white",
             "linecolor": "white",
             "minorgridcolor": "white",
             "startlinecolor": "#2a3f5f"
            },
            "type": "carpet"
           }
          ],
          "choropleth": [
           {
            "colorbar": {
             "outlinewidth": 0,
             "ticks": ""
            },
            "type": "choropleth"
           }
          ],
          "contour": [
           {
            "colorbar": {
             "outlinewidth": 0,
             "ticks": ""
            },
            "colorscale": [
             [
              0,
              "#0d0887"
             ],
             [
              0.1111111111111111,
              "#46039f"
             ],
             [
              0.2222222222222222,
              "#7201a8"
             ],
             [
              0.3333333333333333,
              "#9c179e"
             ],
             [
              0.4444444444444444,
              "#bd3786"
             ],
             [
              0.5555555555555556,
              "#d8576b"
             ],
             [
              0.6666666666666666,
              "#ed7953"
             ],
             [
              0.7777777777777778,
              "#fb9f3a"
             ],
             [
              0.8888888888888888,
              "#fdca26"
             ],
             [
              1,
              "#f0f921"
             ]
            ],
            "type": "contour"
           }
          ],
          "contourcarpet": [
           {
            "colorbar": {
             "outlinewidth": 0,
             "ticks": ""
            },
            "type": "contourcarpet"
           }
          ],
          "heatmap": [
           {
            "colorbar": {
             "outlinewidth": 0,
             "ticks": ""
            },
            "colorscale": [
             [
              0,
              "#0d0887"
             ],
             [
              0.1111111111111111,
              "#46039f"
             ],
             [
              0.2222222222222222,
              "#7201a8"
             ],
             [
              0.3333333333333333,
              "#9c179e"
             ],
             [
              0.4444444444444444,
              "#bd3786"
             ],
             [
              0.5555555555555556,
              "#d8576b"
             ],
             [
              0.6666666666666666,
              "#ed7953"
             ],
             [
              0.7777777777777778,
              "#fb9f3a"
             ],
             [
              0.8888888888888888,
              "#fdca26"
             ],
             [
              1,
              "#f0f921"
             ]
            ],
            "type": "heatmap"
           }
          ],
          "heatmapgl": [
           {
            "colorbar": {
             "outlinewidth": 0,
             "ticks": ""
            },
            "colorscale": [
             [
              0,
              "#0d0887"
             ],
             [
              0.1111111111111111,
              "#46039f"
             ],
             [
              0.2222222222222222,
              "#7201a8"
             ],
             [
              0.3333333333333333,
              "#9c179e"
             ],
             [
              0.4444444444444444,
              "#bd3786"
             ],
             [
              0.5555555555555556,
              "#d8576b"
             ],
             [
              0.6666666666666666,
              "#ed7953"
             ],
             [
              0.7777777777777778,
              "#fb9f3a"
             ],
             [
              0.8888888888888888,
              "#fdca26"
             ],
             [
              1,
              "#f0f921"
             ]
            ],
            "type": "heatmapgl"
           }
          ],
          "histogram": [
           {
            "marker": {
             "pattern": {
              "fillmode": "overlay",
              "size": 10,
              "solidity": 0.2
             }
            },
            "type": "histogram"
           }
          ],
          "histogram2d": [
           {
            "colorbar": {
             "outlinewidth": 0,
             "ticks": ""
            },
            "colorscale": [
             [
              0,
              "#0d0887"
             ],
             [
              0.1111111111111111,
              "#46039f"
             ],
             [
              0.2222222222222222,
              "#7201a8"
             ],
             [
              0.3333333333333333,
              "#9c179e"
             ],
             [
              0.4444444444444444,
              "#bd3786"
             ],
             [
              0.5555555555555556,
              "#d8576b"
             ],
             [
              0.6666666666666666,
              "#ed7953"
             ],
             [
              0.7777777777777778,
              "#fb9f3a"
             ],
             [
              0.8888888888888888,
              "#fdca26"
             ],
             [
              1,
              "#f0f921"
             ]
            ],
            "type": "histogram2d"
           }
          ],
          "histogram2dcontour": [
           {
            "colorbar": {
             "outlinewidth": 0,
             "ticks": ""
            },
            "colorscale": [
             [
              0,
              "#0d0887"
             ],
             [
              0.1111111111111111,
              "#46039f"
             ],
             [
              0.2222222222222222,
              "#7201a8"
             ],
             [
              0.3333333333333333,
              "#9c179e"
             ],
             [
              0.4444444444444444,
              "#bd3786"
             ],
             [
              0.5555555555555556,
              "#d8576b"
             ],
             [
              0.6666666666666666,
              "#ed7953"
             ],
             [
              0.7777777777777778,
              "#fb9f3a"
             ],
             [
              0.8888888888888888,
              "#fdca26"
             ],
             [
              1,
              "#f0f921"
             ]
            ],
            "type": "histogram2dcontour"
           }
          ],
          "mesh3d": [
           {
            "colorbar": {
             "outlinewidth": 0,
             "ticks": ""
            },
            "type": "mesh3d"
           }
          ],
          "parcoords": [
           {
            "line": {
             "colorbar": {
              "outlinewidth": 0,
              "ticks": ""
             }
            },
            "type": "parcoords"
           }
          ],
          "pie": [
           {
            "automargin": true,
            "type": "pie"
           }
          ],
          "scatter": [
           {
            "marker": {
             "colorbar": {
              "outlinewidth": 0,
              "ticks": ""
             }
            },
            "type": "scatter"
           }
          ],
          "scatter3d": [
           {
            "line": {
             "colorbar": {
              "outlinewidth": 0,
              "ticks": ""
             }
            },
            "marker": {
             "colorbar": {
              "outlinewidth": 0,
              "ticks": ""
             }
            },
            "type": "scatter3d"
           }
          ],
          "scattercarpet": [
           {
            "marker": {
             "colorbar": {
              "outlinewidth": 0,
              "ticks": ""
             }
            },
            "type": "scattercarpet"
           }
          ],
          "scattergeo": [
           {
            "marker": {
             "colorbar": {
              "outlinewidth": 0,
              "ticks": ""
             }
            },
            "type": "scattergeo"
           }
          ],
          "scattergl": [
           {
            "marker": {
             "colorbar": {
              "outlinewidth": 0,
              "ticks": ""
             }
            },
            "type": "scattergl"
           }
          ],
          "scattermapbox": [
           {
            "marker": {
             "colorbar": {
              "outlinewidth": 0,
              "ticks": ""
             }
            },
            "type": "scattermapbox"
           }
          ],
          "scatterpolar": [
           {
            "marker": {
             "colorbar": {
              "outlinewidth": 0,
              "ticks": ""
             }
            },
            "type": "scatterpolar"
           }
          ],
          "scatterpolargl": [
           {
            "marker": {
             "colorbar": {
              "outlinewidth": 0,
              "ticks": ""
             }
            },
            "type": "scatterpolargl"
           }
          ],
          "scatterternary": [
           {
            "marker": {
             "colorbar": {
              "outlinewidth": 0,
              "ticks": ""
             }
            },
            "type": "scatterternary"
           }
          ],
          "surface": [
           {
            "colorbar": {
             "outlinewidth": 0,
             "ticks": ""
            },
            "colorscale": [
             [
              0,
              "#0d0887"
             ],
             [
              0.1111111111111111,
              "#46039f"
             ],
             [
              0.2222222222222222,
              "#7201a8"
             ],
             [
              0.3333333333333333,
              "#9c179e"
             ],
             [
              0.4444444444444444,
              "#bd3786"
             ],
             [
              0.5555555555555556,
              "#d8576b"
             ],
             [
              0.6666666666666666,
              "#ed7953"
             ],
             [
              0.7777777777777778,
              "#fb9f3a"
             ],
             [
              0.8888888888888888,
              "#fdca26"
             ],
             [
              1,
              "#f0f921"
             ]
            ],
            "type": "surface"
           }
          ],
          "table": [
           {
            "cells": {
             "fill": {
              "color": "#EBF0F8"
             },
             "line": {
              "color": "white"
             }
            },
            "header": {
             "fill": {
              "color": "#C8D4E3"
             },
             "line": {
              "color": "white"
             }
            },
            "type": "table"
           }
          ]
         },
         "layout": {
          "annotationdefaults": {
           "arrowcolor": "#2a3f5f",
           "arrowhead": 0,
           "arrowwidth": 1
          },
          "autotypenumbers": "strict",
          "coloraxis": {
           "colorbar": {
            "outlinewidth": 0,
            "ticks": ""
           }
          },
          "colorscale": {
           "diverging": [
            [
             0,
             "#8e0152"
            ],
            [
             0.1,
             "#c51b7d"
            ],
            [
             0.2,
             "#de77ae"
            ],
            [
             0.3,
             "#f1b6da"
            ],
            [
             0.4,
             "#fde0ef"
            ],
            [
             0.5,
             "#f7f7f7"
            ],
            [
             0.6,
             "#e6f5d0"
            ],
            [
             0.7,
             "#b8e186"
            ],
            [
             0.8,
             "#7fbc41"
            ],
            [
             0.9,
             "#4d9221"
            ],
            [
             1,
             "#276419"
            ]
           ],
           "sequential": [
            [
             0,
             "#0d0887"
            ],
            [
             0.1111111111111111,
             "#46039f"
            ],
            [
             0.2222222222222222,
             "#7201a8"
            ],
            [
             0.3333333333333333,
             "#9c179e"
            ],
            [
             0.4444444444444444,
             "#bd3786"
            ],
            [
             0.5555555555555556,
             "#d8576b"
            ],
            [
             0.6666666666666666,
             "#ed7953"
            ],
            [
             0.7777777777777778,
             "#fb9f3a"
            ],
            [
             0.8888888888888888,
             "#fdca26"
            ],
            [
             1,
             "#f0f921"
            ]
           ],
           "sequentialminus": [
            [
             0,
             "#0d0887"
            ],
            [
             0.1111111111111111,
             "#46039f"
            ],
            [
             0.2222222222222222,
             "#7201a8"
            ],
            [
             0.3333333333333333,
             "#9c179e"
            ],
            [
             0.4444444444444444,
             "#bd3786"
            ],
            [
             0.5555555555555556,
             "#d8576b"
            ],
            [
             0.6666666666666666,
             "#ed7953"
            ],
            [
             0.7777777777777778,
             "#fb9f3a"
            ],
            [
             0.8888888888888888,
             "#fdca26"
            ],
            [
             1,
             "#f0f921"
            ]
           ]
          },
          "colorway": [
           "#636efa",
           "#EF553B",
           "#00cc96",
           "#ab63fa",
           "#FFA15A",
           "#19d3f3",
           "#FF6692",
           "#B6E880",
           "#FF97FF",
           "#FECB52"
          ],
          "font": {
           "color": "#2a3f5f"
          },
          "geo": {
           "bgcolor": "white",
           "lakecolor": "white",
           "landcolor": "#E5ECF6",
           "showlakes": true,
           "showland": true,
           "subunitcolor": "white"
          },
          "hoverlabel": {
           "align": "left"
          },
          "hovermode": "closest",
          "mapbox": {
           "style": "light"
          },
          "paper_bgcolor": "white",
          "plot_bgcolor": "#E5ECF6",
          "polar": {
           "angularaxis": {
            "gridcolor": "white",
            "linecolor": "white",
            "ticks": ""
           },
           "bgcolor": "#E5ECF6",
           "radialaxis": {
            "gridcolor": "white",
            "linecolor": "white",
            "ticks": ""
           }
          },
          "scene": {
           "xaxis": {
            "backgroundcolor": "#E5ECF6",
            "gridcolor": "white",
            "gridwidth": 2,
            "linecolor": "white",
            "showbackground": true,
            "ticks": "",
            "zerolinecolor": "white"
           },
           "yaxis": {
            "backgroundcolor": "#E5ECF6",
            "gridcolor": "white",
            "gridwidth": 2,
            "linecolor": "white",
            "showbackground": true,
            "ticks": "",
            "zerolinecolor": "white"
           },
           "zaxis": {
            "backgroundcolor": "#E5ECF6",
            "gridcolor": "white",
            "gridwidth": 2,
            "linecolor": "white",
            "showbackground": true,
            "ticks": "",
            "zerolinecolor": "white"
           }
          },
          "shapedefaults": {
           "line": {
            "color": "#2a3f5f"
           }
          },
          "ternary": {
           "aaxis": {
            "gridcolor": "white",
            "linecolor": "white",
            "ticks": ""
           },
           "baxis": {
            "gridcolor": "white",
            "linecolor": "white",
            "ticks": ""
           },
           "bgcolor": "#E5ECF6",
           "caxis": {
            "gridcolor": "white",
            "linecolor": "white",
            "ticks": ""
           }
          },
          "title": {
           "x": 0.05
          },
          "xaxis": {
           "automargin": true,
           "gridcolor": "white",
           "linecolor": "white",
           "ticks": "",
           "title": {
            "standoff": 15
           },
           "zerolinecolor": "white",
           "zerolinewidth": 2
          },
          "yaxis": {
           "automargin": true,
           "gridcolor": "white",
           "linecolor": "white",
           "ticks": "",
           "title": {
            "standoff": 15
           },
           "zerolinecolor": "white",
           "zerolinewidth": 2
          }
         }
        },
        "title": {
         "text": "Top Occurrence Words In each Label"
        },
        "xaxis": {
         "title": {
          "text": "Top Words"
         }
        },
        "yaxis": {
         "title": {
          "text": "Occurrence In Posts(percentage)"
         }
        }
       }
      },
      "text/html": [
       "<div>                            <div id=\"37c645d1-63a0-4987-8222-4a300a750aa1\" class=\"plotly-graph-div\" style=\"height:525px; width:100%;\"></div>            <script type=\"text/javascript\">                require([\"plotly\"], function(Plotly) {                    window.PLOTLYENV=window.PLOTLYENV || {};                                    if (document.getElementById(\"37c645d1-63a0-4987-8222-4a300a750aa1\")) {                    Plotly.newPlot(                        \"37c645d1-63a0-4987-8222-4a300a750aa1\",                        [{\"name\":\"Supportive\",\"x\":[\"want\",\"help\",\"like\",\"better\",\"good\",\"friend\",\"love\",\"well\",\"feeling\",\"hope\",\"sure\",\"please\",\"care\",\"sorry\",\"problem\",\"happy\",\"hard\",\"suicide\",\"best\",\"bad\",\"depression\",\"worth\",\"kind\",\"great\",\"ill\",\"pain\",\"kill\",\"pretty\",\"shit\",\"tired\",\"wish\",\"alone\",\"stop\",\"worse\",\"die\",\"strong\",\"support\",\"thank\",\"anxiety\",\"hate\"],\"y\":[3.84,3.25,2.91,2.65,2.59,2.34,1.61,1.55,1.49,1.42,1.4,1.37,1.26,1.21,1.21,1.07,1.04,1.04,1.01,0.99,0.85,0.75,0.71,0.7,0.66,0.63,0.61,0.61,0.56,0.56,0.53,0.52,0.5,0.42,0.41,0.37,0.37,0.33,0.3,0.29],\"type\":\"bar\",\"opacity\":0.75},{\"name\":\"Indicator\",\"x\":[\"want\",\"help\",\"like\",\"better\",\"good\",\"friend\",\"love\",\"well\",\"feeling\",\"hope\",\"sure\",\"please\",\"care\",\"sorry\",\"problem\",\"happy\",\"hard\",\"suicide\",\"best\",\"bad\",\"depression\",\"worth\",\"kind\",\"great\",\"ill\",\"pain\",\"kill\",\"pretty\",\"shit\",\"tired\",\"wish\",\"alone\",\"stop\",\"worse\",\"die\",\"strong\",\"support\",\"thank\",\"anxiety\",\"hate\"],\"y\":[3.55,3.33,3.1,2.48,2.44,2.18,1.25,1.49,1.47,1.23,1.31,1.22,1.48,1.22,0.9,0.82,1.37,0.74,0.98,1.02,1.07,0.71,0.68,0.8,0.8,0.91,0.48,0.43,0.82,0.77,0.35,0.69,0.42,0.34,0.4,0.53,0.47,0.39,0.37,0.34],\"type\":\"bar\",\"opacity\":0.75},{\"name\":\"Ideation\",\"x\":[\"want\",\"help\",\"like\",\"better\",\"good\",\"friend\",\"love\",\"well\",\"feeling\",\"hope\",\"sure\",\"please\",\"care\",\"sorry\",\"problem\",\"happy\",\"hard\",\"suicide\",\"best\",\"bad\",\"depression\",\"worth\",\"kind\",\"great\",\"ill\",\"pain\",\"kill\",\"pretty\",\"shit\",\"tired\",\"wish\",\"alone\",\"stop\",\"worse\",\"die\",\"strong\",\"support\",\"thank\",\"anxiety\",\"hate\"],\"y\":[3.56,3.12,3.16,2.23,2.16,2.25,1.27,1.37,1.61,1.28,0.86,0.92,0.94,0.9,1.01,1.04,1.08,0.99,0.9,1.11,1.8,0.56,0.65,0.57,0.84,0.89,0.57,0.56,0.55,0.79,0.51,0.88,0.59,0.45,0.48,0.19,0.37,0.71,0.52,0.5],\"type\":\"bar\",\"opacity\":0.75},{\"name\":\"Behavior\",\"x\":[\"want\",\"help\",\"like\",\"better\",\"good\",\"friend\",\"love\",\"well\",\"feeling\",\"hope\",\"sure\",\"please\",\"care\",\"sorry\",\"problem\",\"happy\",\"hard\",\"suicide\",\"best\",\"bad\",\"depression\",\"worth\",\"kind\",\"great\",\"ill\",\"pain\",\"kill\",\"pretty\",\"shit\",\"tired\",\"wish\",\"alone\",\"stop\",\"worse\",\"die\",\"strong\",\"support\",\"thank\",\"anxiety\",\"hate\"],\"y\":[3.89,3.44,3.8,1.97,1.64,2.35,1.33,1.63,1.35,0.95,0.81,0.67,1.18,0.76,1.18,1.08,0.96,0.97,0.76,0.95,1.93,0.44,0.53,0.53,0.82,1.12,0.94,0.6,0.61,1.09,0.39,0.72,0.73,0.7,0.44,0.21,0.52,0.58,0.43,0.61],\"type\":\"bar\",\"opacity\":0.75},{\"name\":\"Attempt\",\"x\":[\"want\",\"help\",\"like\",\"better\",\"good\",\"friend\",\"love\",\"well\",\"feeling\",\"hope\",\"sure\",\"please\",\"care\",\"sorry\",\"problem\",\"happy\",\"hard\",\"suicide\",\"best\",\"bad\",\"depression\",\"worth\",\"kind\",\"great\",\"ill\",\"pain\",\"kill\",\"pretty\",\"shit\",\"tired\",\"wish\",\"alone\",\"stop\",\"worse\",\"die\",\"strong\",\"support\",\"thank\",\"anxiety\",\"hate\"],\"y\":[3.96,3.54,3.28,2.07,1.87,2.1,1.24,1.31,1.42,0.92,0.85,0.68,1.07,0.62,0.95,0.54,0.71,1.01,0.73,1.1,1.36,0.56,0.74,0.44,0.91,0.85,0.83,0.65,1.0,0.82,0.65,0.53,0.73,0.59,0.85,0.12,0.73,0.44,0.69,0.26],\"type\":\"bar\",\"opacity\":0.75}],                        {\"template\":{\"data\":{\"bar\":[{\"error_x\":{\"color\":\"#2a3f5f\"},\"error_y\":{\"color\":\"#2a3f5f\"},\"marker\":{\"line\":{\"color\":\"#E5ECF6\",\"width\":0.5},\"pattern\":{\"fillmode\":\"overlay\",\"size\":10,\"solidity\":0.2}},\"type\":\"bar\"}],\"barpolar\":[{\"marker\":{\"line\":{\"color\":\"#E5ECF6\",\"width\":0.5},\"pattern\":{\"fillmode\":\"overlay\",\"size\":10,\"solidity\":0.2}},\"type\":\"barpolar\"}],\"carpet\":[{\"aaxis\":{\"endlinecolor\":\"#2a3f5f\",\"gridcolor\":\"white\",\"linecolor\":\"white\",\"minorgridcolor\":\"white\",\"startlinecolor\":\"#2a3f5f\"},\"baxis\":{\"endlinecolor\":\"#2a3f5f\",\"gridcolor\":\"white\",\"linecolor\":\"white\",\"minorgridcolor\":\"white\",\"startlinecolor\":\"#2a3f5f\"},\"type\":\"carpet\"}],\"choropleth\":[{\"colorbar\":{\"outlinewidth\":0,\"ticks\":\"\"},\"type\":\"choropleth\"}],\"contour\":[{\"colorbar\":{\"outlinewidth\":0,\"ticks\":\"\"},\"colorscale\":[[0.0,\"#0d0887\"],[0.1111111111111111,\"#46039f\"],[0.2222222222222222,\"#7201a8\"],[0.3333333333333333,\"#9c179e\"],[0.4444444444444444,\"#bd3786\"],[0.5555555555555556,\"#d8576b\"],[0.6666666666666666,\"#ed7953\"],[0.7777777777777778,\"#fb9f3a\"],[0.8888888888888888,\"#fdca26\"],[1.0,\"#f0f921\"]],\"type\":\"contour\"}],\"contourcarpet\":[{\"colorbar\":{\"outlinewidth\":0,\"ticks\":\"\"},\"type\":\"contourcarpet\"}],\"heatmap\":[{\"colorbar\":{\"outlinewidth\":0,\"ticks\":\"\"},\"colorscale\":[[0.0,\"#0d0887\"],[0.1111111111111111,\"#46039f\"],[0.2222222222222222,\"#7201a8\"],[0.3333333333333333,\"#9c179e\"],[0.4444444444444444,\"#bd3786\"],[0.5555555555555556,\"#d8576b\"],[0.6666666666666666,\"#ed7953\"],[0.7777777777777778,\"#fb9f3a\"],[0.8888888888888888,\"#fdca26\"],[1.0,\"#f0f921\"]],\"type\":\"heatmap\"}],\"heatmapgl\":[{\"colorbar\":{\"outlinewidth\":0,\"ticks\":\"\"},\"colorscale\":[[0.0,\"#0d0887\"],[0.1111111111111111,\"#46039f\"],[0.2222222222222222,\"#7201a8\"],[0.3333333333333333,\"#9c179e\"],[0.4444444444444444,\"#bd3786\"],[0.5555555555555556,\"#d8576b\"],[0.6666666666666666,\"#ed7953\"],[0.7777777777777778,\"#fb9f3a\"],[0.8888888888888888,\"#fdca26\"],[1.0,\"#f0f921\"]],\"type\":\"heatmapgl\"}],\"histogram\":[{\"marker\":{\"pattern\":{\"fillmode\":\"overlay\",\"size\":10,\"solidity\":0.2}},\"type\":\"histogram\"}],\"histogram2d\":[{\"colorbar\":{\"outlinewidth\":0,\"ticks\":\"\"},\"colorscale\":[[0.0,\"#0d0887\"],[0.1111111111111111,\"#46039f\"],[0.2222222222222222,\"#7201a8\"],[0.3333333333333333,\"#9c179e\"],[0.4444444444444444,\"#bd3786\"],[0.5555555555555556,\"#d8576b\"],[0.6666666666666666,\"#ed7953\"],[0.7777777777777778,\"#fb9f3a\"],[0.8888888888888888,\"#fdca26\"],[1.0,\"#f0f921\"]],\"type\":\"histogram2d\"}],\"histogram2dcontour\":[{\"colorbar\":{\"outlinewidth\":0,\"ticks\":\"\"},\"colorscale\":[[0.0,\"#0d0887\"],[0.1111111111111111,\"#46039f\"],[0.2222222222222222,\"#7201a8\"],[0.3333333333333333,\"#9c179e\"],[0.4444444444444444,\"#bd3786\"],[0.5555555555555556,\"#d8576b\"],[0.6666666666666666,\"#ed7953\"],[0.7777777777777778,\"#fb9f3a\"],[0.8888888888888888,\"#fdca26\"],[1.0,\"#f0f921\"]],\"type\":\"histogram2dcontour\"}],\"mesh3d\":[{\"colorbar\":{\"outlinewidth\":0,\"ticks\":\"\"},\"type\":\"mesh3d\"}],\"parcoords\":[{\"line\":{\"colorbar\":{\"outlinewidth\":0,\"ticks\":\"\"}},\"type\":\"parcoords\"}],\"pie\":[{\"automargin\":true,\"type\":\"pie\"}],\"scatter\":[{\"marker\":{\"colorbar\":{\"outlinewidth\":0,\"ticks\":\"\"}},\"type\":\"scatter\"}],\"scatter3d\":[{\"line\":{\"colorbar\":{\"outlinewidth\":0,\"ticks\":\"\"}},\"marker\":{\"colorbar\":{\"outlinewidth\":0,\"ticks\":\"\"}},\"type\":\"scatter3d\"}],\"scattercarpet\":[{\"marker\":{\"colorbar\":{\"outlinewidth\":0,\"ticks\":\"\"}},\"type\":\"scattercarpet\"}],\"scattergeo\":[{\"marker\":{\"colorbar\":{\"outlinewidth\":0,\"ticks\":\"\"}},\"type\":\"scattergeo\"}],\"scattergl\":[{\"marker\":{\"colorbar\":{\"outlinewidth\":0,\"ticks\":\"\"}},\"type\":\"scattergl\"}],\"scattermapbox\":[{\"marker\":{\"colorbar\":{\"outlinewidth\":0,\"ticks\":\"\"}},\"type\":\"scattermapbox\"}],\"scatterpolar\":[{\"marker\":{\"colorbar\":{\"outlinewidth\":0,\"ticks\":\"\"}},\"type\":\"scatterpolar\"}],\"scatterpolargl\":[{\"marker\":{\"colorbar\":{\"outlinewidth\":0,\"ticks\":\"\"}},\"type\":\"scatterpolargl\"}],\"scatterternary\":[{\"marker\":{\"colorbar\":{\"outlinewidth\":0,\"ticks\":\"\"}},\"type\":\"scatterternary\"}],\"surface\":[{\"colorbar\":{\"outlinewidth\":0,\"ticks\":\"\"},\"colorscale\":[[0.0,\"#0d0887\"],[0.1111111111111111,\"#46039f\"],[0.2222222222222222,\"#7201a8\"],[0.3333333333333333,\"#9c179e\"],[0.4444444444444444,\"#bd3786\"],[0.5555555555555556,\"#d8576b\"],[0.6666666666666666,\"#ed7953\"],[0.7777777777777778,\"#fb9f3a\"],[0.8888888888888888,\"#fdca26\"],[1.0,\"#f0f921\"]],\"type\":\"surface\"}],\"table\":[{\"cells\":{\"fill\":{\"color\":\"#EBF0F8\"},\"line\":{\"color\":\"white\"}},\"header\":{\"fill\":{\"color\":\"#C8D4E3\"},\"line\":{\"color\":\"white\"}},\"type\":\"table\"}]},\"layout\":{\"annotationdefaults\":{\"arrowcolor\":\"#2a3f5f\",\"arrowhead\":0,\"arrowwidth\":1},\"autotypenumbers\":\"strict\",\"coloraxis\":{\"colorbar\":{\"outlinewidth\":0,\"ticks\":\"\"}},\"colorscale\":{\"diverging\":[[0,\"#8e0152\"],[0.1,\"#c51b7d\"],[0.2,\"#de77ae\"],[0.3,\"#f1b6da\"],[0.4,\"#fde0ef\"],[0.5,\"#f7f7f7\"],[0.6,\"#e6f5d0\"],[0.7,\"#b8e186\"],[0.8,\"#7fbc41\"],[0.9,\"#4d9221\"],[1,\"#276419\"]],\"sequential\":[[0.0,\"#0d0887\"],[0.1111111111111111,\"#46039f\"],[0.2222222222222222,\"#7201a8\"],[0.3333333333333333,\"#9c179e\"],[0.4444444444444444,\"#bd3786\"],[0.5555555555555556,\"#d8576b\"],[0.6666666666666666,\"#ed7953\"],[0.7777777777777778,\"#fb9f3a\"],[0.8888888888888888,\"#fdca26\"],[1.0,\"#f0f921\"]],\"sequentialminus\":[[0.0,\"#0d0887\"],[0.1111111111111111,\"#46039f\"],[0.2222222222222222,\"#7201a8\"],[0.3333333333333333,\"#9c179e\"],[0.4444444444444444,\"#bd3786\"],[0.5555555555555556,\"#d8576b\"],[0.6666666666666666,\"#ed7953\"],[0.7777777777777778,\"#fb9f3a\"],[0.8888888888888888,\"#fdca26\"],[1.0,\"#f0f921\"]]},\"colorway\":[\"#636efa\",\"#EF553B\",\"#00cc96\",\"#ab63fa\",\"#FFA15A\",\"#19d3f3\",\"#FF6692\",\"#B6E880\",\"#FF97FF\",\"#FECB52\"],\"font\":{\"color\":\"#2a3f5f\"},\"geo\":{\"bgcolor\":\"white\",\"lakecolor\":\"white\",\"landcolor\":\"#E5ECF6\",\"showlakes\":true,\"showland\":true,\"subunitcolor\":\"white\"},\"hoverlabel\":{\"align\":\"left\"},\"hovermode\":\"closest\",\"mapbox\":{\"style\":\"light\"},\"paper_bgcolor\":\"white\",\"plot_bgcolor\":\"#E5ECF6\",\"polar\":{\"angularaxis\":{\"gridcolor\":\"white\",\"linecolor\":\"white\",\"ticks\":\"\"},\"bgcolor\":\"#E5ECF6\",\"radialaxis\":{\"gridcolor\":\"white\",\"linecolor\":\"white\",\"ticks\":\"\"}},\"scene\":{\"xaxis\":{\"backgroundcolor\":\"#E5ECF6\",\"gridcolor\":\"white\",\"gridwidth\":2,\"linecolor\":\"white\",\"showbackground\":true,\"ticks\":\"\",\"zerolinecolor\":\"white\"},\"yaxis\":{\"backgroundcolor\":\"#E5ECF6\",\"gridcolor\":\"white\",\"gridwidth\":2,\"linecolor\":\"white\",\"showbackground\":true,\"ticks\":\"\",\"zerolinecolor\":\"white\"},\"zaxis\":{\"backgroundcolor\":\"#E5ECF6\",\"gridcolor\":\"white\",\"gridwidth\":2,\"linecolor\":\"white\",\"showbackground\":true,\"ticks\":\"\",\"zerolinecolor\":\"white\"}},\"shapedefaults\":{\"line\":{\"color\":\"#2a3f5f\"}},\"ternary\":{\"aaxis\":{\"gridcolor\":\"white\",\"linecolor\":\"white\",\"ticks\":\"\"},\"baxis\":{\"gridcolor\":\"white\",\"linecolor\":\"white\",\"ticks\":\"\"},\"bgcolor\":\"#E5ECF6\",\"caxis\":{\"gridcolor\":\"white\",\"linecolor\":\"white\",\"ticks\":\"\"}},\"title\":{\"x\":0.05},\"xaxis\":{\"automargin\":true,\"gridcolor\":\"white\",\"linecolor\":\"white\",\"ticks\":\"\",\"title\":{\"standoff\":15},\"zerolinecolor\":\"white\",\"zerolinewidth\":2},\"yaxis\":{\"automargin\":true,\"gridcolor\":\"white\",\"linecolor\":\"white\",\"ticks\":\"\",\"title\":{\"standoff\":15},\"zerolinecolor\":\"white\",\"zerolinewidth\":2}}},\"title\":{\"text\":\"Top Occurrence Words In each Label\"},\"xaxis\":{\"title\":{\"text\":\"Top Words\"}},\"yaxis\":{\"title\":{\"text\":\"Occurrence In Posts(percentage)\"}}},                        {\"responsive\": true}                    ).then(function(){\n",
       "                            \n",
       "var gd = document.getElementById('37c645d1-63a0-4987-8222-4a300a750aa1');\n",
       "var x = new MutationObserver(function (mutations, observer) {{\n",
       "        var display = window.getComputedStyle(gd).display;\n",
       "        if (!display || display === 'none') {{\n",
       "            console.log([gd, 'removed!']);\n",
       "            Plotly.purge(gd);\n",
       "            observer.disconnect();\n",
       "        }}\n",
       "}});\n",
       "\n",
       "// Listen for the removal of the full notebook cells\n",
       "var notebookContainer = gd.closest('#notebook-container');\n",
       "if (notebookContainer) {{\n",
       "    x.observe(notebookContainer, {childList: true});\n",
       "}}\n",
       "\n",
       "// Listen for the clearing of the current output cell\n",
       "var outputEl = gd.closest('.output');\n",
       "if (outputEl) {{\n",
       "    x.observe(outputEl, {childList: true});\n",
       "}}\n",
       "\n",
       "                        })                };                });            </script>        </div>"
      ]
     },
     "metadata": {},
     "output_type": "display_data"
    }
   ],
   "source": [
    "# ploting \n",
    "import pandas as pd\n",
    "from plotly import __version__ \n",
    "from plotly.offline import init_notebook_mode\n",
    "import cufflinks as cf\n",
    "init_notebook_mode(connected=True)\n",
    "cf.go_offline()\n",
    "import plotly.graph_objects as go\n",
    "import numpy as np\n",
    "\n",
    "# type: series \n",
    "d0 = df_merged2_sorted[\"percentage-0\"]\n",
    "d1 = df_merged2_sorted[\"percentage-1\"]\n",
    "d2 = df_merged2_sorted[\"percentage-2\"]\n",
    "d3 = df_merged2_sorted[\"percentage-3\"]\n",
    "d4 = df_merged2_sorted[\"percentage-4\"]\n",
    "\n",
    "fig = go.Figure()\n",
    "fig.add_trace(go.Bar(x=df_merged2_sorted['words'], y=d0, name = 'Supportive'))\n",
    "fig.add_trace(go.Bar(x=df_merged2_sorted['words'], y=d1, name = 'Indicator'))\n",
    "fig.add_trace(go.Bar(x=df_merged2_sorted['words'], y=d2, name = 'Ideation'))\n",
    "fig.add_trace(go.Bar(x=df_merged2_sorted['words'], y=d3, name = 'Behavior'))\n",
    "fig.add_trace(go.Bar(x=df_merged2_sorted['words'], y=d4, name = 'Attempt'))\n",
    "\n",
    "fig.update_layout(title=\"Top Occurrence Words In each Label\", xaxis_title=\"Top Words\", yaxis_title = \"Occurrence In Posts(percentage)\")\n",
    "\n",
    "# Reduce opacity to see both histograms\n",
    "fig.update_traces(opacity=0.75)\n",
    "fig.show()\n",
    "fig.write_image(\"image/top_occurrence.png\")\n"
   ]
  },
  {
   "cell_type": "code",
   "execution_count": 20,
   "metadata": {},
   "outputs": [
    {
     "data": {
      "text/html": [
       "        <script type=\"text/javascript\">\n",
       "        window.PlotlyConfig = {MathJaxConfig: 'local'};\n",
       "        if (window.MathJax) {MathJax.Hub.Config({SVG: {font: \"STIX-Web\"}});}\n",
       "        if (typeof require !== 'undefined') {\n",
       "        require.undef(\"plotly\");\n",
       "        requirejs.config({\n",
       "            paths: {\n",
       "                'plotly': ['https://cdn.plot.ly/plotly-2.6.3.min']\n",
       "            }\n",
       "        });\n",
       "        require(['plotly'], function(Plotly) {\n",
       "            window._Plotly = Plotly;\n",
       "        });\n",
       "        }\n",
       "        </script>\n",
       "        "
      ]
     },
     "metadata": {},
     "output_type": "display_data"
    },
    {
     "data": {
      "text/html": [
       "        <script type=\"text/javascript\">\n",
       "        window.PlotlyConfig = {MathJaxConfig: 'local'};\n",
       "        if (window.MathJax) {MathJax.Hub.Config({SVG: {font: \"STIX-Web\"}});}\n",
       "        if (typeof require !== 'undefined') {\n",
       "        require.undef(\"plotly\");\n",
       "        requirejs.config({\n",
       "            paths: {\n",
       "                'plotly': ['https://cdn.plot.ly/plotly-2.6.3.min']\n",
       "            }\n",
       "        });\n",
       "        require(['plotly'], function(Plotly) {\n",
       "            window._Plotly = Plotly;\n",
       "        });\n",
       "        }\n",
       "        </script>\n",
       "        "
      ]
     },
     "metadata": {},
     "output_type": "display_data"
    },
    {
     "data": {
      "application/vnd.plotly.v1+json": {
       "config": {
        "plotlyServerURL": "https://plot.ly"
       },
       "data": [
        {
         "name": "Supportive",
         "opacity": 0.75,
         "type": "bar",
         "x": [
          "hope",
          "depression",
          "great",
          "die",
          "anxiety"
         ],
         "y": [
          1.42,
          0.85,
          0.7,
          0.41,
          0.3
         ]
        },
        {
         "name": "Indicator",
         "opacity": 0.75,
         "type": "bar",
         "x": [
          "hope",
          "depression",
          "great",
          "die",
          "anxiety"
         ],
         "y": [
          1.23,
          1.07,
          0.8,
          0.4,
          0.37
         ]
        },
        {
         "name": "Ideation",
         "opacity": 0.75,
         "type": "bar",
         "x": [
          "hope",
          "depression",
          "great",
          "die",
          "anxiety"
         ],
         "y": [
          1.28,
          1.8,
          0.57,
          0.48,
          0.52
         ]
        },
        {
         "name": "Behavior",
         "opacity": 0.75,
         "type": "bar",
         "x": [
          "hope",
          "depression",
          "great",
          "die",
          "anxiety"
         ],
         "y": [
          0.95,
          1.93,
          0.53,
          0.44,
          0.43
         ]
        },
        {
         "name": "Attempt",
         "opacity": 0.75,
         "type": "bar",
         "x": [
          "hope",
          "depression",
          "great",
          "die",
          "anxiety"
         ],
         "y": [
          0.92,
          1.36,
          0.44,
          0.85,
          0.69
         ]
        }
       ],
       "layout": {
        "template": {
         "data": {
          "bar": [
           {
            "error_x": {
             "color": "#2a3f5f"
            },
            "error_y": {
             "color": "#2a3f5f"
            },
            "marker": {
             "line": {
              "color": "#E5ECF6",
              "width": 0.5
             },
             "pattern": {
              "fillmode": "overlay",
              "size": 10,
              "solidity": 0.2
             }
            },
            "type": "bar"
           }
          ],
          "barpolar": [
           {
            "marker": {
             "line": {
              "color": "#E5ECF6",
              "width": 0.5
             },
             "pattern": {
              "fillmode": "overlay",
              "size": 10,
              "solidity": 0.2
             }
            },
            "type": "barpolar"
           }
          ],
          "carpet": [
           {
            "aaxis": {
             "endlinecolor": "#2a3f5f",
             "gridcolor": "white",
             "linecolor": "white",
             "minorgridcolor": "white",
             "startlinecolor": "#2a3f5f"
            },
            "baxis": {
             "endlinecolor": "#2a3f5f",
             "gridcolor": "white",
             "linecolor": "white",
             "minorgridcolor": "white",
             "startlinecolor": "#2a3f5f"
            },
            "type": "carpet"
           }
          ],
          "choropleth": [
           {
            "colorbar": {
             "outlinewidth": 0,
             "ticks": ""
            },
            "type": "choropleth"
           }
          ],
          "contour": [
           {
            "colorbar": {
             "outlinewidth": 0,
             "ticks": ""
            },
            "colorscale": [
             [
              0,
              "#0d0887"
             ],
             [
              0.1111111111111111,
              "#46039f"
             ],
             [
              0.2222222222222222,
              "#7201a8"
             ],
             [
              0.3333333333333333,
              "#9c179e"
             ],
             [
              0.4444444444444444,
              "#bd3786"
             ],
             [
              0.5555555555555556,
              "#d8576b"
             ],
             [
              0.6666666666666666,
              "#ed7953"
             ],
             [
              0.7777777777777778,
              "#fb9f3a"
             ],
             [
              0.8888888888888888,
              "#fdca26"
             ],
             [
              1,
              "#f0f921"
             ]
            ],
            "type": "contour"
           }
          ],
          "contourcarpet": [
           {
            "colorbar": {
             "outlinewidth": 0,
             "ticks": ""
            },
            "type": "contourcarpet"
           }
          ],
          "heatmap": [
           {
            "colorbar": {
             "outlinewidth": 0,
             "ticks": ""
            },
            "colorscale": [
             [
              0,
              "#0d0887"
             ],
             [
              0.1111111111111111,
              "#46039f"
             ],
             [
              0.2222222222222222,
              "#7201a8"
             ],
             [
              0.3333333333333333,
              "#9c179e"
             ],
             [
              0.4444444444444444,
              "#bd3786"
             ],
             [
              0.5555555555555556,
              "#d8576b"
             ],
             [
              0.6666666666666666,
              "#ed7953"
             ],
             [
              0.7777777777777778,
              "#fb9f3a"
             ],
             [
              0.8888888888888888,
              "#fdca26"
             ],
             [
              1,
              "#f0f921"
             ]
            ],
            "type": "heatmap"
           }
          ],
          "heatmapgl": [
           {
            "colorbar": {
             "outlinewidth": 0,
             "ticks": ""
            },
            "colorscale": [
             [
              0,
              "#0d0887"
             ],
             [
              0.1111111111111111,
              "#46039f"
             ],
             [
              0.2222222222222222,
              "#7201a8"
             ],
             [
              0.3333333333333333,
              "#9c179e"
             ],
             [
              0.4444444444444444,
              "#bd3786"
             ],
             [
              0.5555555555555556,
              "#d8576b"
             ],
             [
              0.6666666666666666,
              "#ed7953"
             ],
             [
              0.7777777777777778,
              "#fb9f3a"
             ],
             [
              0.8888888888888888,
              "#fdca26"
             ],
             [
              1,
              "#f0f921"
             ]
            ],
            "type": "heatmapgl"
           }
          ],
          "histogram": [
           {
            "marker": {
             "pattern": {
              "fillmode": "overlay",
              "size": 10,
              "solidity": 0.2
             }
            },
            "type": "histogram"
           }
          ],
          "histogram2d": [
           {
            "colorbar": {
             "outlinewidth": 0,
             "ticks": ""
            },
            "colorscale": [
             [
              0,
              "#0d0887"
             ],
             [
              0.1111111111111111,
              "#46039f"
             ],
             [
              0.2222222222222222,
              "#7201a8"
             ],
             [
              0.3333333333333333,
              "#9c179e"
             ],
             [
              0.4444444444444444,
              "#bd3786"
             ],
             [
              0.5555555555555556,
              "#d8576b"
             ],
             [
              0.6666666666666666,
              "#ed7953"
             ],
             [
              0.7777777777777778,
              "#fb9f3a"
             ],
             [
              0.8888888888888888,
              "#fdca26"
             ],
             [
              1,
              "#f0f921"
             ]
            ],
            "type": "histogram2d"
           }
          ],
          "histogram2dcontour": [
           {
            "colorbar": {
             "outlinewidth": 0,
             "ticks": ""
            },
            "colorscale": [
             [
              0,
              "#0d0887"
             ],
             [
              0.1111111111111111,
              "#46039f"
             ],
             [
              0.2222222222222222,
              "#7201a8"
             ],
             [
              0.3333333333333333,
              "#9c179e"
             ],
             [
              0.4444444444444444,
              "#bd3786"
             ],
             [
              0.5555555555555556,
              "#d8576b"
             ],
             [
              0.6666666666666666,
              "#ed7953"
             ],
             [
              0.7777777777777778,
              "#fb9f3a"
             ],
             [
              0.8888888888888888,
              "#fdca26"
             ],
             [
              1,
              "#f0f921"
             ]
            ],
            "type": "histogram2dcontour"
           }
          ],
          "mesh3d": [
           {
            "colorbar": {
             "outlinewidth": 0,
             "ticks": ""
            },
            "type": "mesh3d"
           }
          ],
          "parcoords": [
           {
            "line": {
             "colorbar": {
              "outlinewidth": 0,
              "ticks": ""
             }
            },
            "type": "parcoords"
           }
          ],
          "pie": [
           {
            "automargin": true,
            "type": "pie"
           }
          ],
          "scatter": [
           {
            "marker": {
             "colorbar": {
              "outlinewidth": 0,
              "ticks": ""
             }
            },
            "type": "scatter"
           }
          ],
          "scatter3d": [
           {
            "line": {
             "colorbar": {
              "outlinewidth": 0,
              "ticks": ""
             }
            },
            "marker": {
             "colorbar": {
              "outlinewidth": 0,
              "ticks": ""
             }
            },
            "type": "scatter3d"
           }
          ],
          "scattercarpet": [
           {
            "marker": {
             "colorbar": {
              "outlinewidth": 0,
              "ticks": ""
             }
            },
            "type": "scattercarpet"
           }
          ],
          "scattergeo": [
           {
            "marker": {
             "colorbar": {
              "outlinewidth": 0,
              "ticks": ""
             }
            },
            "type": "scattergeo"
           }
          ],
          "scattergl": [
           {
            "marker": {
             "colorbar": {
              "outlinewidth": 0,
              "ticks": ""
             }
            },
            "type": "scattergl"
           }
          ],
          "scattermapbox": [
           {
            "marker": {
             "colorbar": {
              "outlinewidth": 0,
              "ticks": ""
             }
            },
            "type": "scattermapbox"
           }
          ],
          "scatterpolar": [
           {
            "marker": {
             "colorbar": {
              "outlinewidth": 0,
              "ticks": ""
             }
            },
            "type": "scatterpolar"
           }
          ],
          "scatterpolargl": [
           {
            "marker": {
             "colorbar": {
              "outlinewidth": 0,
              "ticks": ""
             }
            },
            "type": "scatterpolargl"
           }
          ],
          "scatterternary": [
           {
            "marker": {
             "colorbar": {
              "outlinewidth": 0,
              "ticks": ""
             }
            },
            "type": "scatterternary"
           }
          ],
          "surface": [
           {
            "colorbar": {
             "outlinewidth": 0,
             "ticks": ""
            },
            "colorscale": [
             [
              0,
              "#0d0887"
             ],
             [
              0.1111111111111111,
              "#46039f"
             ],
             [
              0.2222222222222222,
              "#7201a8"
             ],
             [
              0.3333333333333333,
              "#9c179e"
             ],
             [
              0.4444444444444444,
              "#bd3786"
             ],
             [
              0.5555555555555556,
              "#d8576b"
             ],
             [
              0.6666666666666666,
              "#ed7953"
             ],
             [
              0.7777777777777778,
              "#fb9f3a"
             ],
             [
              0.8888888888888888,
              "#fdca26"
             ],
             [
              1,
              "#f0f921"
             ]
            ],
            "type": "surface"
           }
          ],
          "table": [
           {
            "cells": {
             "fill": {
              "color": "#EBF0F8"
             },
             "line": {
              "color": "white"
             }
            },
            "header": {
             "fill": {
              "color": "#C8D4E3"
             },
             "line": {
              "color": "white"
             }
            },
            "type": "table"
           }
          ]
         },
         "layout": {
          "annotationdefaults": {
           "arrowcolor": "#2a3f5f",
           "arrowhead": 0,
           "arrowwidth": 1
          },
          "autotypenumbers": "strict",
          "coloraxis": {
           "colorbar": {
            "outlinewidth": 0,
            "ticks": ""
           }
          },
          "colorscale": {
           "diverging": [
            [
             0,
             "#8e0152"
            ],
            [
             0.1,
             "#c51b7d"
            ],
            [
             0.2,
             "#de77ae"
            ],
            [
             0.3,
             "#f1b6da"
            ],
            [
             0.4,
             "#fde0ef"
            ],
            [
             0.5,
             "#f7f7f7"
            ],
            [
             0.6,
             "#e6f5d0"
            ],
            [
             0.7,
             "#b8e186"
            ],
            [
             0.8,
             "#7fbc41"
            ],
            [
             0.9,
             "#4d9221"
            ],
            [
             1,
             "#276419"
            ]
           ],
           "sequential": [
            [
             0,
             "#0d0887"
            ],
            [
             0.1111111111111111,
             "#46039f"
            ],
            [
             0.2222222222222222,
             "#7201a8"
            ],
            [
             0.3333333333333333,
             "#9c179e"
            ],
            [
             0.4444444444444444,
             "#bd3786"
            ],
            [
             0.5555555555555556,
             "#d8576b"
            ],
            [
             0.6666666666666666,
             "#ed7953"
            ],
            [
             0.7777777777777778,
             "#fb9f3a"
            ],
            [
             0.8888888888888888,
             "#fdca26"
            ],
            [
             1,
             "#f0f921"
            ]
           ],
           "sequentialminus": [
            [
             0,
             "#0d0887"
            ],
            [
             0.1111111111111111,
             "#46039f"
            ],
            [
             0.2222222222222222,
             "#7201a8"
            ],
            [
             0.3333333333333333,
             "#9c179e"
            ],
            [
             0.4444444444444444,
             "#bd3786"
            ],
            [
             0.5555555555555556,
             "#d8576b"
            ],
            [
             0.6666666666666666,
             "#ed7953"
            ],
            [
             0.7777777777777778,
             "#fb9f3a"
            ],
            [
             0.8888888888888888,
             "#fdca26"
            ],
            [
             1,
             "#f0f921"
            ]
           ]
          },
          "colorway": [
           "#636efa",
           "#EF553B",
           "#00cc96",
           "#ab63fa",
           "#FFA15A",
           "#19d3f3",
           "#FF6692",
           "#B6E880",
           "#FF97FF",
           "#FECB52"
          ],
          "font": {
           "color": "#2a3f5f"
          },
          "geo": {
           "bgcolor": "white",
           "lakecolor": "white",
           "landcolor": "#E5ECF6",
           "showlakes": true,
           "showland": true,
           "subunitcolor": "white"
          },
          "hoverlabel": {
           "align": "left"
          },
          "hovermode": "closest",
          "mapbox": {
           "style": "light"
          },
          "paper_bgcolor": "white",
          "plot_bgcolor": "#E5ECF6",
          "polar": {
           "angularaxis": {
            "gridcolor": "white",
            "linecolor": "white",
            "ticks": ""
           },
           "bgcolor": "#E5ECF6",
           "radialaxis": {
            "gridcolor": "white",
            "linecolor": "white",
            "ticks": ""
           }
          },
          "scene": {
           "xaxis": {
            "backgroundcolor": "#E5ECF6",
            "gridcolor": "white",
            "gridwidth": 2,
            "linecolor": "white",
            "showbackground": true,
            "ticks": "",
            "zerolinecolor": "white"
           },
           "yaxis": {
            "backgroundcolor": "#E5ECF6",
            "gridcolor": "white",
            "gridwidth": 2,
            "linecolor": "white",
            "showbackground": true,
            "ticks": "",
            "zerolinecolor": "white"
           },
           "zaxis": {
            "backgroundcolor": "#E5ECF6",
            "gridcolor": "white",
            "gridwidth": 2,
            "linecolor": "white",
            "showbackground": true,
            "ticks": "",
            "zerolinecolor": "white"
           }
          },
          "shapedefaults": {
           "line": {
            "color": "#2a3f5f"
           }
          },
          "ternary": {
           "aaxis": {
            "gridcolor": "white",
            "linecolor": "white",
            "ticks": ""
           },
           "baxis": {
            "gridcolor": "white",
            "linecolor": "white",
            "ticks": ""
           },
           "bgcolor": "#E5ECF6",
           "caxis": {
            "gridcolor": "white",
            "linecolor": "white",
            "ticks": ""
           }
          },
          "title": {
           "x": 0.05
          },
          "xaxis": {
           "automargin": true,
           "gridcolor": "white",
           "linecolor": "white",
           "ticks": "",
           "title": {
            "standoff": 15
           },
           "zerolinecolor": "white",
           "zerolinewidth": 2
          },
          "yaxis": {
           "automargin": true,
           "gridcolor": "white",
           "linecolor": "white",
           "ticks": "",
           "title": {
            "standoff": 15
           },
           "zerolinecolor": "white",
           "zerolinewidth": 2
          }
         }
        },
        "title": {
         "text": "Interesting Words In each Label"
        },
        "xaxis": {
         "title": {
          "text": "Interesting Words"
         }
        },
        "yaxis": {
         "title": {
          "text": "Occurrence In Posts(percentage)"
         }
        }
       }
      },
      "text/html": [
       "<div>                            <div id=\"16092685-193f-4a11-a2ff-c63f03105102\" class=\"plotly-graph-div\" style=\"height:525px; width:100%;\"></div>            <script type=\"text/javascript\">                require([\"plotly\"], function(Plotly) {                    window.PLOTLYENV=window.PLOTLYENV || {};                                    if (document.getElementById(\"16092685-193f-4a11-a2ff-c63f03105102\")) {                    Plotly.newPlot(                        \"16092685-193f-4a11-a2ff-c63f03105102\",                        [{\"name\":\"Supportive\",\"x\":[\"hope\",\"depression\",\"great\",\"die\",\"anxiety\"],\"y\":[1.42,0.85,0.7,0.41,0.3],\"type\":\"bar\",\"opacity\":0.75},{\"name\":\"Indicator\",\"x\":[\"hope\",\"depression\",\"great\",\"die\",\"anxiety\"],\"y\":[1.23,1.07,0.8,0.4,0.37],\"type\":\"bar\",\"opacity\":0.75},{\"name\":\"Ideation\",\"x\":[\"hope\",\"depression\",\"great\",\"die\",\"anxiety\"],\"y\":[1.28,1.8,0.57,0.48,0.52],\"type\":\"bar\",\"opacity\":0.75},{\"name\":\"Behavior\",\"x\":[\"hope\",\"depression\",\"great\",\"die\",\"anxiety\"],\"y\":[0.95,1.93,0.53,0.44,0.43],\"type\":\"bar\",\"opacity\":0.75},{\"name\":\"Attempt\",\"x\":[\"hope\",\"depression\",\"great\",\"die\",\"anxiety\"],\"y\":[0.92,1.36,0.44,0.85,0.69],\"type\":\"bar\",\"opacity\":0.75}],                        {\"template\":{\"data\":{\"bar\":[{\"error_x\":{\"color\":\"#2a3f5f\"},\"error_y\":{\"color\":\"#2a3f5f\"},\"marker\":{\"line\":{\"color\":\"#E5ECF6\",\"width\":0.5},\"pattern\":{\"fillmode\":\"overlay\",\"size\":10,\"solidity\":0.2}},\"type\":\"bar\"}],\"barpolar\":[{\"marker\":{\"line\":{\"color\":\"#E5ECF6\",\"width\":0.5},\"pattern\":{\"fillmode\":\"overlay\",\"size\":10,\"solidity\":0.2}},\"type\":\"barpolar\"}],\"carpet\":[{\"aaxis\":{\"endlinecolor\":\"#2a3f5f\",\"gridcolor\":\"white\",\"linecolor\":\"white\",\"minorgridcolor\":\"white\",\"startlinecolor\":\"#2a3f5f\"},\"baxis\":{\"endlinecolor\":\"#2a3f5f\",\"gridcolor\":\"white\",\"linecolor\":\"white\",\"minorgridcolor\":\"white\",\"startlinecolor\":\"#2a3f5f\"},\"type\":\"carpet\"}],\"choropleth\":[{\"colorbar\":{\"outlinewidth\":0,\"ticks\":\"\"},\"type\":\"choropleth\"}],\"contour\":[{\"colorbar\":{\"outlinewidth\":0,\"ticks\":\"\"},\"colorscale\":[[0.0,\"#0d0887\"],[0.1111111111111111,\"#46039f\"],[0.2222222222222222,\"#7201a8\"],[0.3333333333333333,\"#9c179e\"],[0.4444444444444444,\"#bd3786\"],[0.5555555555555556,\"#d8576b\"],[0.6666666666666666,\"#ed7953\"],[0.7777777777777778,\"#fb9f3a\"],[0.8888888888888888,\"#fdca26\"],[1.0,\"#f0f921\"]],\"type\":\"contour\"}],\"contourcarpet\":[{\"colorbar\":{\"outlinewidth\":0,\"ticks\":\"\"},\"type\":\"contourcarpet\"}],\"heatmap\":[{\"colorbar\":{\"outlinewidth\":0,\"ticks\":\"\"},\"colorscale\":[[0.0,\"#0d0887\"],[0.1111111111111111,\"#46039f\"],[0.2222222222222222,\"#7201a8\"],[0.3333333333333333,\"#9c179e\"],[0.4444444444444444,\"#bd3786\"],[0.5555555555555556,\"#d8576b\"],[0.6666666666666666,\"#ed7953\"],[0.7777777777777778,\"#fb9f3a\"],[0.8888888888888888,\"#fdca26\"],[1.0,\"#f0f921\"]],\"type\":\"heatmap\"}],\"heatmapgl\":[{\"colorbar\":{\"outlinewidth\":0,\"ticks\":\"\"},\"colorscale\":[[0.0,\"#0d0887\"],[0.1111111111111111,\"#46039f\"],[0.2222222222222222,\"#7201a8\"],[0.3333333333333333,\"#9c179e\"],[0.4444444444444444,\"#bd3786\"],[0.5555555555555556,\"#d8576b\"],[0.6666666666666666,\"#ed7953\"],[0.7777777777777778,\"#fb9f3a\"],[0.8888888888888888,\"#fdca26\"],[1.0,\"#f0f921\"]],\"type\":\"heatmapgl\"}],\"histogram\":[{\"marker\":{\"pattern\":{\"fillmode\":\"overlay\",\"size\":10,\"solidity\":0.2}},\"type\":\"histogram\"}],\"histogram2d\":[{\"colorbar\":{\"outlinewidth\":0,\"ticks\":\"\"},\"colorscale\":[[0.0,\"#0d0887\"],[0.1111111111111111,\"#46039f\"],[0.2222222222222222,\"#7201a8\"],[0.3333333333333333,\"#9c179e\"],[0.4444444444444444,\"#bd3786\"],[0.5555555555555556,\"#d8576b\"],[0.6666666666666666,\"#ed7953\"],[0.7777777777777778,\"#fb9f3a\"],[0.8888888888888888,\"#fdca26\"],[1.0,\"#f0f921\"]],\"type\":\"histogram2d\"}],\"histogram2dcontour\":[{\"colorbar\":{\"outlinewidth\":0,\"ticks\":\"\"},\"colorscale\":[[0.0,\"#0d0887\"],[0.1111111111111111,\"#46039f\"],[0.2222222222222222,\"#7201a8\"],[0.3333333333333333,\"#9c179e\"],[0.4444444444444444,\"#bd3786\"],[0.5555555555555556,\"#d8576b\"],[0.6666666666666666,\"#ed7953\"],[0.7777777777777778,\"#fb9f3a\"],[0.8888888888888888,\"#fdca26\"],[1.0,\"#f0f921\"]],\"type\":\"histogram2dcontour\"}],\"mesh3d\":[{\"colorbar\":{\"outlinewidth\":0,\"ticks\":\"\"},\"type\":\"mesh3d\"}],\"parcoords\":[{\"line\":{\"colorbar\":{\"outlinewidth\":0,\"ticks\":\"\"}},\"type\":\"parcoords\"}],\"pie\":[{\"automargin\":true,\"type\":\"pie\"}],\"scatter\":[{\"marker\":{\"colorbar\":{\"outlinewidth\":0,\"ticks\":\"\"}},\"type\":\"scatter\"}],\"scatter3d\":[{\"line\":{\"colorbar\":{\"outlinewidth\":0,\"ticks\":\"\"}},\"marker\":{\"colorbar\":{\"outlinewidth\":0,\"ticks\":\"\"}},\"type\":\"scatter3d\"}],\"scattercarpet\":[{\"marker\":{\"colorbar\":{\"outlinewidth\":0,\"ticks\":\"\"}},\"type\":\"scattercarpet\"}],\"scattergeo\":[{\"marker\":{\"colorbar\":{\"outlinewidth\":0,\"ticks\":\"\"}},\"type\":\"scattergeo\"}],\"scattergl\":[{\"marker\":{\"colorbar\":{\"outlinewidth\":0,\"ticks\":\"\"}},\"type\":\"scattergl\"}],\"scattermapbox\":[{\"marker\":{\"colorbar\":{\"outlinewidth\":0,\"ticks\":\"\"}},\"type\":\"scattermapbox\"}],\"scatterpolar\":[{\"marker\":{\"colorbar\":{\"outlinewidth\":0,\"ticks\":\"\"}},\"type\":\"scatterpolar\"}],\"scatterpolargl\":[{\"marker\":{\"colorbar\":{\"outlinewidth\":0,\"ticks\":\"\"}},\"type\":\"scatterpolargl\"}],\"scatterternary\":[{\"marker\":{\"colorbar\":{\"outlinewidth\":0,\"ticks\":\"\"}},\"type\":\"scatterternary\"}],\"surface\":[{\"colorbar\":{\"outlinewidth\":0,\"ticks\":\"\"},\"colorscale\":[[0.0,\"#0d0887\"],[0.1111111111111111,\"#46039f\"],[0.2222222222222222,\"#7201a8\"],[0.3333333333333333,\"#9c179e\"],[0.4444444444444444,\"#bd3786\"],[0.5555555555555556,\"#d8576b\"],[0.6666666666666666,\"#ed7953\"],[0.7777777777777778,\"#fb9f3a\"],[0.8888888888888888,\"#fdca26\"],[1.0,\"#f0f921\"]],\"type\":\"surface\"}],\"table\":[{\"cells\":{\"fill\":{\"color\":\"#EBF0F8\"},\"line\":{\"color\":\"white\"}},\"header\":{\"fill\":{\"color\":\"#C8D4E3\"},\"line\":{\"color\":\"white\"}},\"type\":\"table\"}]},\"layout\":{\"annotationdefaults\":{\"arrowcolor\":\"#2a3f5f\",\"arrowhead\":0,\"arrowwidth\":1},\"autotypenumbers\":\"strict\",\"coloraxis\":{\"colorbar\":{\"outlinewidth\":0,\"ticks\":\"\"}},\"colorscale\":{\"diverging\":[[0,\"#8e0152\"],[0.1,\"#c51b7d\"],[0.2,\"#de77ae\"],[0.3,\"#f1b6da\"],[0.4,\"#fde0ef\"],[0.5,\"#f7f7f7\"],[0.6,\"#e6f5d0\"],[0.7,\"#b8e186\"],[0.8,\"#7fbc41\"],[0.9,\"#4d9221\"],[1,\"#276419\"]],\"sequential\":[[0.0,\"#0d0887\"],[0.1111111111111111,\"#46039f\"],[0.2222222222222222,\"#7201a8\"],[0.3333333333333333,\"#9c179e\"],[0.4444444444444444,\"#bd3786\"],[0.5555555555555556,\"#d8576b\"],[0.6666666666666666,\"#ed7953\"],[0.7777777777777778,\"#fb9f3a\"],[0.8888888888888888,\"#fdca26\"],[1.0,\"#f0f921\"]],\"sequentialminus\":[[0.0,\"#0d0887\"],[0.1111111111111111,\"#46039f\"],[0.2222222222222222,\"#7201a8\"],[0.3333333333333333,\"#9c179e\"],[0.4444444444444444,\"#bd3786\"],[0.5555555555555556,\"#d8576b\"],[0.6666666666666666,\"#ed7953\"],[0.7777777777777778,\"#fb9f3a\"],[0.8888888888888888,\"#fdca26\"],[1.0,\"#f0f921\"]]},\"colorway\":[\"#636efa\",\"#EF553B\",\"#00cc96\",\"#ab63fa\",\"#FFA15A\",\"#19d3f3\",\"#FF6692\",\"#B6E880\",\"#FF97FF\",\"#FECB52\"],\"font\":{\"color\":\"#2a3f5f\"},\"geo\":{\"bgcolor\":\"white\",\"lakecolor\":\"white\",\"landcolor\":\"#E5ECF6\",\"showlakes\":true,\"showland\":true,\"subunitcolor\":\"white\"},\"hoverlabel\":{\"align\":\"left\"},\"hovermode\":\"closest\",\"mapbox\":{\"style\":\"light\"},\"paper_bgcolor\":\"white\",\"plot_bgcolor\":\"#E5ECF6\",\"polar\":{\"angularaxis\":{\"gridcolor\":\"white\",\"linecolor\":\"white\",\"ticks\":\"\"},\"bgcolor\":\"#E5ECF6\",\"radialaxis\":{\"gridcolor\":\"white\",\"linecolor\":\"white\",\"ticks\":\"\"}},\"scene\":{\"xaxis\":{\"backgroundcolor\":\"#E5ECF6\",\"gridcolor\":\"white\",\"gridwidth\":2,\"linecolor\":\"white\",\"showbackground\":true,\"ticks\":\"\",\"zerolinecolor\":\"white\"},\"yaxis\":{\"backgroundcolor\":\"#E5ECF6\",\"gridcolor\":\"white\",\"gridwidth\":2,\"linecolor\":\"white\",\"showbackground\":true,\"ticks\":\"\",\"zerolinecolor\":\"white\"},\"zaxis\":{\"backgroundcolor\":\"#E5ECF6\",\"gridcolor\":\"white\",\"gridwidth\":2,\"linecolor\":\"white\",\"showbackground\":true,\"ticks\":\"\",\"zerolinecolor\":\"white\"}},\"shapedefaults\":{\"line\":{\"color\":\"#2a3f5f\"}},\"ternary\":{\"aaxis\":{\"gridcolor\":\"white\",\"linecolor\":\"white\",\"ticks\":\"\"},\"baxis\":{\"gridcolor\":\"white\",\"linecolor\":\"white\",\"ticks\":\"\"},\"bgcolor\":\"#E5ECF6\",\"caxis\":{\"gridcolor\":\"white\",\"linecolor\":\"white\",\"ticks\":\"\"}},\"title\":{\"x\":0.05},\"xaxis\":{\"automargin\":true,\"gridcolor\":\"white\",\"linecolor\":\"white\",\"ticks\":\"\",\"title\":{\"standoff\":15},\"zerolinecolor\":\"white\",\"zerolinewidth\":2},\"yaxis\":{\"automargin\":true,\"gridcolor\":\"white\",\"linecolor\":\"white\",\"ticks\":\"\",\"title\":{\"standoff\":15},\"zerolinecolor\":\"white\",\"zerolinewidth\":2}}},\"title\":{\"text\":\"Interesting Words In each Label\"},\"xaxis\":{\"title\":{\"text\":\"Interesting Words\"}},\"yaxis\":{\"title\":{\"text\":\"Occurrence In Posts(percentage)\"}}},                        {\"responsive\": true}                    ).then(function(){\n",
       "                            \n",
       "var gd = document.getElementById('16092685-193f-4a11-a2ff-c63f03105102');\n",
       "var x = new MutationObserver(function (mutations, observer) {{\n",
       "        var display = window.getComputedStyle(gd).display;\n",
       "        if (!display || display === 'none') {{\n",
       "            console.log([gd, 'removed!']);\n",
       "            Plotly.purge(gd);\n",
       "            observer.disconnect();\n",
       "        }}\n",
       "}});\n",
       "\n",
       "// Listen for the removal of the full notebook cells\n",
       "var notebookContainer = gd.closest('#notebook-container');\n",
       "if (notebookContainer) {{\n",
       "    x.observe(notebookContainer, {childList: true});\n",
       "}}\n",
       "\n",
       "// Listen for the clearing of the current output cell\n",
       "var outputEl = gd.closest('.output');\n",
       "if (outputEl) {{\n",
       "    x.observe(outputEl, {childList: true});\n",
       "}}\n",
       "\n",
       "                        })                };                });            </script>        </div>"
      ]
     },
     "metadata": {},
     "output_type": "display_data"
    }
   ],
   "source": [
    "# plot interesting words\n",
    "import pandas as pd\n",
    "from plotly import __version__ \n",
    "from plotly.offline import init_notebook_mode\n",
    "import cufflinks as cf\n",
    "init_notebook_mode(connected=True)\n",
    "cf.go_offline()\n",
    "import chart_studio\n",
    "import chart_studio.plotly as py\n",
    "import chart_studio.tools as tls\n",
    "from plotly.graph_objs import *\n",
    "import plotly.express as px\n",
    "\n",
    "# type: dataframe\n",
    "interesting = df_merged2_sorted[df_merged2_sorted['words'].isin(['hope', 'depression', 'great', 'die','anxiety'])]\n",
    "itst =['hope', 'depression', 'great', 'die','anxiety']\n",
    "fig = go.Figure()\n",
    "fig.add_trace(go.Bar(x=itst, y=interesting[\"percentage-0\"], name = 'Supportive'))\n",
    "fig.add_trace(go.Bar(x=itst, y=interesting[\"percentage-1\"], name = 'Indicator'))\n",
    "fig.add_trace(go.Bar(x=itst, y=interesting[\"percentage-2\"], name = 'Ideation'))\n",
    "fig.add_trace(go.Bar(x=itst, y=interesting[\"percentage-3\"], name = 'Behavior'))\n",
    "fig.add_trace(go.Bar(x=itst, y=interesting[\"percentage-4\"], name = 'Attempt'))\n",
    "\n",
    "fig.update_layout(title=\"Interesting Words In each Label\", xaxis_title=\"Interesting Words\", yaxis_title = \"Occurrence In Posts(percentage)\")\n",
    "\n",
    "# Reduce opacity to see both histograms\n",
    "fig.update_traces(opacity=0.75)\n",
    "fig.show()\n",
    "fig.write_html(\"pat.html\")\n",
    "fig.write_image('1111.png')\n",
    "#plotly.offline.plot(fig, filename = 'filename.html', auto_open=False)"
   ]
  }
 ],
 "metadata": {
  "interpreter": {
   "hash": "aee8b7b246df8f9039afb4144a1f6fd8d2ca17a180786b69acc140d282b71a49"
  },
  "kernelspec": {
   "display_name": "Python 3.7.4 64-bit",
   "language": "python",
   "name": "python3"
  },
  "language_info": {
   "codemirror_mode": {
    "name": "ipython",
    "version": 3
   },
   "file_extension": ".py",
   "mimetype": "text/x-python",
   "name": "python",
   "nbconvert_exporter": "python",
   "pygments_lexer": "ipython3",
   "version": "3.7.4"
  },
  "orig_nbformat": 4
 },
 "nbformat": 4,
 "nbformat_minor": 2
}
