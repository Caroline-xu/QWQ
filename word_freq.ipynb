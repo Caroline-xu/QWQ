{
 "cells": [
  {
   "cell_type": "code",
   "execution_count": 1,
   "metadata": {},
   "outputs": [
    {
     "name": "stderr",
     "output_type": "stream",
     "text": [
      "/Users/wangjiale/QWQ/preprocessing.py:42: SettingWithCopyWarning: \n",
      "A value is trying to be set on a copy of a slice from a DataFrame\n",
      "\n",
      "See the caveats in the documentation: https://pandas.pydata.org/pandas-docs/stable/user_guide/indexing.html#returning-a-view-versus-a-copy\n",
      "  df[\"Tokenized Post\"][index]=clean_token\n"
     ]
    }
   ],
   "source": [
    "from preprocessing import tokenized\n",
    "from nltk.sentiment.vader import SentimentIntensityAnalyzer\n",
    "import nltk\n",
    "#nltk.download('vader_lexicon')\n",
    "import pandas as pd"
   ]
  },
  {
   "cell_type": "code",
   "execution_count": 2,
   "metadata": {},
   "outputs": [],
   "source": [
    "def wordListToFreqDict(wordlist):\n",
    "    somewords = []\n",
    "    for p in wordlist:\n",
    "        if sentiment_scores(p) != 0:\n",
    "            somewords.append(p)\n",
    "    wordfreq = [somewords.count(i) for i in somewords]\n",
    "    return dict(zip(somewords,wordfreq))\n",
    "\n",
    "def sortFreqDict(freqdict):\n",
    "    freqDic = [(freqdict[key], key) for key in freqdict]\n",
    "    freqDic.sort()\n",
    "    freqDic.reverse()\n",
    "    return freqDic\n",
    "\n",
    "def sentiment_scores(sentence): \n",
    "    #initialize polarity of now sentence\n",
    "    polarity = 0\n",
    "    # Create a SentimentIntensityAnalyzer object. \n",
    "    sid_obj = SentimentIntensityAnalyzer()\n",
    "\n",
    "    # polarity_scores method of SentimentIntensityAnalyzer \n",
    "    # oject gives a sentiment dictionary. \n",
    "    # which contains pos, neg, neu, and compound scores. \n",
    "    sentiment_dict = sid_obj.polarity_scores(sentence) \n",
    "    \n",
    "    #get rate of polarity of one post\n",
    "    this_negative = sentiment_dict['neg']\n",
    "    this_neural = sentiment_dict['neu']\n",
    "    this_positive = sentiment_dict['pos']\n",
    "    \n",
    "    # decide sentiment as positive, negative and neutral \n",
    "    if sentiment_dict['compound'] >= 0.05 : \n",
    "        #positive\n",
    "        polarity = 1 \n",
    "    elif sentiment_dict['compound'] <= - 0.05 : \n",
    "        #negative\n",
    "        polarity = -1\n",
    "    else: \n",
    "        #neural\n",
    "        polarity = 0\n",
    "    return polarity\n",
    "\n",
    "\n",
    "def word_freq(label):\n",
    "    wordsList = []\n",
    "    for value in label:\n",
    "        wordsList = wordsList + value\n",
    "    freqList = sortFreqDict(wordListToFreqDict(wordsList))[0:50]\n",
    "    return freqList"
   ]
  },
  {
   "cell_type": "code",
   "execution_count": 6,
   "metadata": {},
   "outputs": [],
   "source": [
    "def freq_df(label_list, label_num):\n",
    "    df = pd.DataFrame(word_freq(label_list), columns=['count', 'words'])\n",
    "    df['label'] = label_num\n",
    "    return df"
   ]
  },
  {
   "cell_type": "code",
   "execution_count": 25,
   "metadata": {},
   "outputs": [
    {
     "name": "stderr",
     "output_type": "stream",
     "text": [
      "/Users/wangjiale/QWQ/preprocessing.py:42: SettingWithCopyWarning: \n",
      "A value is trying to be set on a copy of a slice from a DataFrame\n",
      "\n",
      "See the caveats in the documentation: https://pandas.pydata.org/pandas-docs/stable/user_guide/indexing.html#returning-a-view-versus-a-copy\n",
      "  df[\"Tokenized Post\"][index]=clean_token\n"
     ]
    }
   ],
   "source": [
    "df = pd.read_csv('/Users/wangjiale/QWQ/Data/500_Reddit_users_posts_labels.csv')\n",
    "\n",
    "df = tokenized(df)\n",
    "\n",
    "#['Supportive','Ideation','Attempt','Behavior','Indicator'],[0, 1, 2, 3, 4])\n",
    "label_0 = df.loc[df['New Label']==0,:]['Tokenized Post']   \n",
    "label_1 = df.loc[df['New Label']==1,:]['Tokenized Post']\n",
    "label_2 = df.loc[df['New Label']==2,:]['Tokenized Post']\n",
    "label_3 = df.loc[df['New Label']==3,:]['Tokenized Post']\n",
    "label_4 = df.loc[df['New Label']==4,:]['Tokenized Post']\n",
    "df_0 = freq_df(label_0, \"0\")\n",
    "df_1 = freq_df(label_1, \"1\")\n",
    "df_2 = freq_df(label_2, \"2\")\n",
    "df_3 = freq_df(label_3, \"3\")\n",
    "df_4 = freq_df(label_4, \"4\")\n",
    "final_freq_df = df_1.append([df_1, df_2, df_3, df_4], ignore_index = True)\n"
   ]
  },
  {
   "cell_type": "code",
   "execution_count": 34,
   "metadata": {},
   "outputs": [],
   "source": [
    "final_freq_df.to_csv(\"freq_df.csv\",index=False)"
   ]
  },
  {
   "cell_type": "code",
   "execution_count": 50,
   "metadata": {},
   "outputs": [
    {
     "data": {
      "text/html": [
       "<div>\n",
       "<style scoped>\n",
       "    .dataframe tbody tr th:only-of-type {\n",
       "        vertical-align: middle;\n",
       "    }\n",
       "\n",
       "    .dataframe tbody tr th {\n",
       "        vertical-align: top;\n",
       "    }\n",
       "\n",
       "    .dataframe thead th {\n",
       "        text-align: right;\n",
       "    }\n",
       "</style>\n",
       "<table border=\"1\" class=\"dataframe\">\n",
       "  <thead>\n",
       "    <tr style=\"text-align: right;\">\n",
       "      <th></th>\n",
       "      <th>count</th>\n",
       "      <th>words</th>\n",
       "      <th>label</th>\n",
       "    </tr>\n",
       "  </thead>\n",
       "  <tbody>\n",
       "    <tr>\n",
       "      <th>0</th>\n",
       "      <td>523</td>\n",
       "      <td>want</td>\n",
       "      <td>0</td>\n",
       "    </tr>\n",
       "    <tr>\n",
       "      <th>1</th>\n",
       "      <td>418</td>\n",
       "      <td>help</td>\n",
       "      <td>0</td>\n",
       "    </tr>\n",
       "    <tr>\n",
       "      <th>2</th>\n",
       "      <td>408</td>\n",
       "      <td>like</td>\n",
       "      <td>0</td>\n",
       "    </tr>\n",
       "    <tr>\n",
       "      <th>3</th>\n",
       "      <td>376</td>\n",
       "      <td>better</td>\n",
       "      <td>0</td>\n",
       "    </tr>\n",
       "    <tr>\n",
       "      <th>4</th>\n",
       "      <td>366</td>\n",
       "      <td>good</td>\n",
       "      <td>0</td>\n",
       "    </tr>\n",
       "    <tr>\n",
       "      <th>...</th>\n",
       "      <td>...</td>\n",
       "      <td>...</td>\n",
       "      <td>...</td>\n",
       "    </tr>\n",
       "    <tr>\n",
       "      <th>245</th>\n",
       "      <td>52</td>\n",
       "      <td>anxiety</td>\n",
       "      <td>4</td>\n",
       "    </tr>\n",
       "    <tr>\n",
       "      <th>246</th>\n",
       "      <td>51</td>\n",
       "      <td>thanks</td>\n",
       "      <td>4</td>\n",
       "    </tr>\n",
       "    <tr>\n",
       "      <th>247</th>\n",
       "      <td>50</td>\n",
       "      <td>sad</td>\n",
       "      <td>4</td>\n",
       "    </tr>\n",
       "    <tr>\n",
       "      <th>248</th>\n",
       "      <td>50</td>\n",
       "      <td>important</td>\n",
       "      <td>4</td>\n",
       "    </tr>\n",
       "    <tr>\n",
       "      <th>249</th>\n",
       "      <td>49</td>\n",
       "      <td>worse</td>\n",
       "      <td>4</td>\n",
       "    </tr>\n",
       "  </tbody>\n",
       "</table>\n",
       "<p>250 rows × 3 columns</p>\n",
       "</div>"
      ],
      "text/plain": [
       "     count      words label\n",
       "0      523       want     0\n",
       "1      418       help     0\n",
       "2      408       like     0\n",
       "3      376     better     0\n",
       "4      366       good     0\n",
       "..     ...        ...   ...\n",
       "245     52    anxiety     4\n",
       "246     51     thanks     4\n",
       "247     50        sad     4\n",
       "248     50  important     4\n",
       "249     49      worse     4\n",
       "\n",
       "[250 rows x 3 columns]"
      ]
     },
     "execution_count": 50,
     "metadata": {},
     "output_type": "execute_result"
    }
   ],
   "source": [
    "final_freq_df"
   ]
  },
  {
   "cell_type": "code",
   "execution_count": null,
   "metadata": {},
   "outputs": [],
   "source": []
  },
  {
   "cell_type": "code",
   "execution_count": null,
   "metadata": {},
   "outputs": [],
   "source": []
  },
  {
   "cell_type": "code",
   "execution_count": null,
   "metadata": {},
   "outputs": [],
   "source": []
  },
  {
   "cell_type": "code",
   "execution_count": null,
   "metadata": {},
   "outputs": [],
   "source": []
  }
 ],
 "metadata": {
  "interpreter": {
   "hash": "aee8b7b246df8f9039afb4144a1f6fd8d2ca17a180786b69acc140d282b71a49"
  },
  "kernelspec": {
   "display_name": "Python 3.7.4 64-bit",
   "language": "python",
   "name": "python3"
  },
  "language_info": {
   "codemirror_mode": {
    "name": "ipython",
    "version": 3
   },
   "file_extension": ".py",
   "mimetype": "text/x-python",
   "name": "python",
   "nbconvert_exporter": "python",
   "pygments_lexer": "ipython3",
   "version": "3.7.4"
  },
  "orig_nbformat": 4
 },
 "nbformat": 4,
 "nbformat_minor": 2
}
